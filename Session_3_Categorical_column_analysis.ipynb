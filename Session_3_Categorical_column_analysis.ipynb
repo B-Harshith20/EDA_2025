{
 "cells": [
  {
   "cell_type": "code",
   "execution_count": 2,
   "id": "cd40e3f4-2bdb-4d9d-9bbe-da6ec1b053ca",
   "metadata": {},
   "outputs": [
    {
     "data": {
      "text/html": [
       "<div>\n",
       "<style scoped>\n",
       "    .dataframe tbody tr th:only-of-type {\n",
       "        vertical-align: middle;\n",
       "    }\n",
       "\n",
       "    .dataframe tbody tr th {\n",
       "        vertical-align: top;\n",
       "    }\n",
       "\n",
       "    .dataframe thead th {\n",
       "        text-align: right;\n",
       "    }\n",
       "</style>\n",
       "<table border=\"1\" class=\"dataframe\">\n",
       "  <thead>\n",
       "    <tr style=\"text-align: right;\">\n",
       "      <th></th>\n",
       "      <th>case_id</th>\n",
       "      <th>continent</th>\n",
       "      <th>education_of_employee</th>\n",
       "      <th>has_job_experience</th>\n",
       "      <th>requires_job_training</th>\n",
       "      <th>no_of_employees</th>\n",
       "      <th>yr_of_estab</th>\n",
       "      <th>region_of_employment</th>\n",
       "      <th>prevailing_wage</th>\n",
       "      <th>unit_of_wage</th>\n",
       "      <th>full_time_position</th>\n",
       "      <th>case_status</th>\n",
       "    </tr>\n",
       "  </thead>\n",
       "  <tbody>\n",
       "    <tr>\n",
       "      <th>0</th>\n",
       "      <td>EZYV01</td>\n",
       "      <td>Asia</td>\n",
       "      <td>High School</td>\n",
       "      <td>N</td>\n",
       "      <td>N</td>\n",
       "      <td>14513</td>\n",
       "      <td>2007</td>\n",
       "      <td>West</td>\n",
       "      <td>592.2029</td>\n",
       "      <td>Hour</td>\n",
       "      <td>Y</td>\n",
       "      <td>Denied</td>\n",
       "    </tr>\n",
       "    <tr>\n",
       "      <th>1</th>\n",
       "      <td>EZYV02</td>\n",
       "      <td>Asia</td>\n",
       "      <td>Master's</td>\n",
       "      <td>Y</td>\n",
       "      <td>N</td>\n",
       "      <td>2412</td>\n",
       "      <td>2002</td>\n",
       "      <td>Northeast</td>\n",
       "      <td>83425.6500</td>\n",
       "      <td>Year</td>\n",
       "      <td>Y</td>\n",
       "      <td>Certified</td>\n",
       "    </tr>\n",
       "    <tr>\n",
       "      <th>2</th>\n",
       "      <td>EZYV03</td>\n",
       "      <td>Asia</td>\n",
       "      <td>Bachelor's</td>\n",
       "      <td>N</td>\n",
       "      <td>Y</td>\n",
       "      <td>44444</td>\n",
       "      <td>2008</td>\n",
       "      <td>West</td>\n",
       "      <td>122996.8600</td>\n",
       "      <td>Year</td>\n",
       "      <td>Y</td>\n",
       "      <td>Denied</td>\n",
       "    </tr>\n",
       "    <tr>\n",
       "      <th>3</th>\n",
       "      <td>EZYV04</td>\n",
       "      <td>Asia</td>\n",
       "      <td>Bachelor's</td>\n",
       "      <td>N</td>\n",
       "      <td>N</td>\n",
       "      <td>98</td>\n",
       "      <td>1897</td>\n",
       "      <td>West</td>\n",
       "      <td>83434.0300</td>\n",
       "      <td>Year</td>\n",
       "      <td>Y</td>\n",
       "      <td>Denied</td>\n",
       "    </tr>\n",
       "    <tr>\n",
       "      <th>4</th>\n",
       "      <td>EZYV05</td>\n",
       "      <td>Africa</td>\n",
       "      <td>Master's</td>\n",
       "      <td>Y</td>\n",
       "      <td>N</td>\n",
       "      <td>1082</td>\n",
       "      <td>2005</td>\n",
       "      <td>South</td>\n",
       "      <td>149907.3900</td>\n",
       "      <td>Year</td>\n",
       "      <td>Y</td>\n",
       "      <td>Certified</td>\n",
       "    </tr>\n",
       "    <tr>\n",
       "      <th>...</th>\n",
       "      <td>...</td>\n",
       "      <td>...</td>\n",
       "      <td>...</td>\n",
       "      <td>...</td>\n",
       "      <td>...</td>\n",
       "      <td>...</td>\n",
       "      <td>...</td>\n",
       "      <td>...</td>\n",
       "      <td>...</td>\n",
       "      <td>...</td>\n",
       "      <td>...</td>\n",
       "      <td>...</td>\n",
       "    </tr>\n",
       "    <tr>\n",
       "      <th>25475</th>\n",
       "      <td>EZYV25476</td>\n",
       "      <td>Asia</td>\n",
       "      <td>Bachelor's</td>\n",
       "      <td>Y</td>\n",
       "      <td>Y</td>\n",
       "      <td>2601</td>\n",
       "      <td>2008</td>\n",
       "      <td>South</td>\n",
       "      <td>77092.5700</td>\n",
       "      <td>Year</td>\n",
       "      <td>Y</td>\n",
       "      <td>Certified</td>\n",
       "    </tr>\n",
       "    <tr>\n",
       "      <th>25476</th>\n",
       "      <td>EZYV25477</td>\n",
       "      <td>Asia</td>\n",
       "      <td>High School</td>\n",
       "      <td>Y</td>\n",
       "      <td>N</td>\n",
       "      <td>3274</td>\n",
       "      <td>2006</td>\n",
       "      <td>Northeast</td>\n",
       "      <td>279174.7900</td>\n",
       "      <td>Year</td>\n",
       "      <td>Y</td>\n",
       "      <td>Certified</td>\n",
       "    </tr>\n",
       "    <tr>\n",
       "      <th>25477</th>\n",
       "      <td>EZYV25478</td>\n",
       "      <td>Asia</td>\n",
       "      <td>Master's</td>\n",
       "      <td>Y</td>\n",
       "      <td>N</td>\n",
       "      <td>1121</td>\n",
       "      <td>1910</td>\n",
       "      <td>South</td>\n",
       "      <td>146298.8500</td>\n",
       "      <td>Year</td>\n",
       "      <td>N</td>\n",
       "      <td>Certified</td>\n",
       "    </tr>\n",
       "    <tr>\n",
       "      <th>25478</th>\n",
       "      <td>EZYV25479</td>\n",
       "      <td>Asia</td>\n",
       "      <td>Master's</td>\n",
       "      <td>Y</td>\n",
       "      <td>Y</td>\n",
       "      <td>1918</td>\n",
       "      <td>1887</td>\n",
       "      <td>West</td>\n",
       "      <td>86154.7700</td>\n",
       "      <td>Year</td>\n",
       "      <td>Y</td>\n",
       "      <td>Certified</td>\n",
       "    </tr>\n",
       "    <tr>\n",
       "      <th>25479</th>\n",
       "      <td>EZYV25480</td>\n",
       "      <td>Asia</td>\n",
       "      <td>Bachelor's</td>\n",
       "      <td>Y</td>\n",
       "      <td>N</td>\n",
       "      <td>3195</td>\n",
       "      <td>1960</td>\n",
       "      <td>Midwest</td>\n",
       "      <td>70876.9100</td>\n",
       "      <td>Year</td>\n",
       "      <td>Y</td>\n",
       "      <td>Certified</td>\n",
       "    </tr>\n",
       "  </tbody>\n",
       "</table>\n",
       "<p>25480 rows × 12 columns</p>\n",
       "</div>"
      ],
      "text/plain": [
       "         case_id continent education_of_employee has_job_experience  \\\n",
       "0         EZYV01      Asia           High School                  N   \n",
       "1         EZYV02      Asia              Master's                  Y   \n",
       "2         EZYV03      Asia            Bachelor's                  N   \n",
       "3         EZYV04      Asia            Bachelor's                  N   \n",
       "4         EZYV05    Africa              Master's                  Y   \n",
       "...          ...       ...                   ...                ...   \n",
       "25475  EZYV25476      Asia            Bachelor's                  Y   \n",
       "25476  EZYV25477      Asia           High School                  Y   \n",
       "25477  EZYV25478      Asia              Master's                  Y   \n",
       "25478  EZYV25479      Asia              Master's                  Y   \n",
       "25479  EZYV25480      Asia            Bachelor's                  Y   \n",
       "\n",
       "      requires_job_training  no_of_employees  yr_of_estab  \\\n",
       "0                         N            14513         2007   \n",
       "1                         N             2412         2002   \n",
       "2                         Y            44444         2008   \n",
       "3                         N               98         1897   \n",
       "4                         N             1082         2005   \n",
       "...                     ...              ...          ...   \n",
       "25475                     Y             2601         2008   \n",
       "25476                     N             3274         2006   \n",
       "25477                     N             1121         1910   \n",
       "25478                     Y             1918         1887   \n",
       "25479                     N             3195         1960   \n",
       "\n",
       "      region_of_employment  prevailing_wage unit_of_wage full_time_position  \\\n",
       "0                     West         592.2029         Hour                  Y   \n",
       "1                Northeast       83425.6500         Year                  Y   \n",
       "2                     West      122996.8600         Year                  Y   \n",
       "3                     West       83434.0300         Year                  Y   \n",
       "4                    South      149907.3900         Year                  Y   \n",
       "...                    ...              ...          ...                ...   \n",
       "25475                South       77092.5700         Year                  Y   \n",
       "25476            Northeast      279174.7900         Year                  Y   \n",
       "25477                South      146298.8500         Year                  N   \n",
       "25478                 West       86154.7700         Year                  Y   \n",
       "25479              Midwest       70876.9100         Year                  Y   \n",
       "\n",
       "      case_status  \n",
       "0          Denied  \n",
       "1       Certified  \n",
       "2          Denied  \n",
       "3          Denied  \n",
       "4       Certified  \n",
       "...           ...  \n",
       "25475   Certified  \n",
       "25476   Certified  \n",
       "25477   Certified  \n",
       "25478   Certified  \n",
       "25479   Certified  \n",
       "\n",
       "[25480 rows x 12 columns]"
      ]
     },
     "execution_count": 2,
     "metadata": {},
     "output_type": "execute_result"
    }
   ],
   "source": [
    "import pandas as pd\n",
    "import numpy as np\n",
    "import matplotlib.pyplot as plt\n",
    "import seaborn as sns\n",
    "\n",
    "visa_d=pd.read_csv(r'C:\\Users\\happy\\Data Science & AI\\Data Files\\visadataset.csv')\n",
    "visa_df=pd.DataFrame(visa_d)\n",
    "visa_df"
   ]
  },
  {
   "cell_type": "code",
   "execution_count": 13,
   "id": "fb7d2528-6906-4c90-96c1-93dedf3602f4",
   "metadata": {},
   "outputs": [],
   "source": [
    "cat = visa_df.select_dtypes(include='object').columns\n",
    "num = visa_df.select_dtypes(exclude='object').columns"
   ]
  },
  {
   "cell_type": "code",
   "execution_count": 33,
   "id": "ed367d9e-020d-4304-9cfb-38368ab506d9",
   "metadata": {},
   "outputs": [
    {
     "data": {
      "text/plain": [
       "Index(['case_id', 'continent', 'education_of_employee', 'has_job_experience',\n",
       "       'requires_job_training', 'region_of_employment', 'unit_of_wage',\n",
       "       'full_time_position', 'case_status'],\n",
       "      dtype='object')"
      ]
     },
     "execution_count": 33,
     "metadata": {},
     "output_type": "execute_result"
    }
   ],
   "source": [
    "cat"
   ]
  },
  {
   "cell_type": "code",
   "execution_count": 23,
   "id": "74ba2a00-e255-4fe9-bdd8-446030a1a7d6",
   "metadata": {},
   "outputs": [
    {
     "data": {
      "text/plain": [
       "Index(['no_of_employees', 'yr_of_estab', 'prevailing_wage'], dtype='object')"
      ]
     },
     "execution_count": 23,
     "metadata": {},
     "output_type": "execute_result"
    }
   ],
   "source": [
    "num"
   ]
  },
  {
   "cell_type": "code",
   "execution_count": 19,
   "id": "3300b2ff-0332-423a-bf9a-6e7032d9b06d",
   "metadata": {},
   "outputs": [
    {
     "data": {
      "text/plain": [
       "0          Asia\n",
       "1          Asia\n",
       "2          Asia\n",
       "3          Asia\n",
       "4        Africa\n",
       "          ...  \n",
       "25475      Asia\n",
       "25476      Asia\n",
       "25477      Asia\n",
       "25478      Asia\n",
       "25479      Asia\n",
       "Name: continent, Length: 25480, dtype: object"
      ]
     },
     "execution_count": 19,
     "metadata": {},
     "output_type": "execute_result"
    }
   ],
   "source": [
    "visa_df['continent']"
   ]
  },
  {
   "cell_type": "markdown",
   "id": "570a6010-b367-4e87-97fd-0c0d27ec5773",
   "metadata": {},
   "source": [
    "**Unique**"
   ]
  },
  {
   "cell_type": "code",
   "execution_count": 26,
   "id": "bcd8b90d-de37-432d-86dd-f3c1f3a024f3",
   "metadata": {},
   "outputs": [
    {
     "data": {
      "text/plain": [
       "array(['Asia', 'Africa', 'North America', 'Europe', 'South America',\n",
       "       'Oceania'], dtype=object)"
      ]
     },
     "execution_count": 26,
     "metadata": {},
     "output_type": "execute_result"
    }
   ],
   "source": [
    "visa_df['continent'].unique()"
   ]
  },
  {
   "cell_type": "code",
   "execution_count": 28,
   "id": "63e79d32-11c1-4385-af44-0843afd18e10",
   "metadata": {},
   "outputs": [
    {
     "data": {
      "text/plain": [
       "6"
      ]
     },
     "execution_count": 28,
     "metadata": {},
     "output_type": "execute_result"
    }
   ],
   "source": [
    "len(visa_df['continent'].unique())"
   ]
  },
  {
   "cell_type": "markdown",
   "id": "ec2d48a7-24ba-402e-b770-69567f94cdda",
   "metadata": {},
   "source": [
    "**Nunique**"
   ]
  },
  {
   "cell_type": "code",
   "execution_count": 35,
   "id": "ee9d0358-7c7d-4591-934c-4aa4ea8fb05c",
   "metadata": {},
   "outputs": [
    {
     "data": {
      "text/plain": [
       "6"
      ]
     },
     "execution_count": 35,
     "metadata": {},
     "output_type": "execute_result"
    }
   ],
   "source": [
    "visa_df['continent'].nunique()"
   ]
  },
  {
   "cell_type": "markdown",
   "id": "de70ecad-edea-48af-9eb0-fdf8a681df67",
   "metadata": {},
   "source": [
    "**Frequency Tables**\n",
    "- continent column has some unique continent names are available\n",
    "- total data size 25480 observations\n",
    "- will create a table having continents and number of applicants from each continent"
   ]
  },
  {
   "cell_type": "code",
   "execution_count": 52,
   "id": "5eb7760f-5f7f-4c7f-a57d-c08441bb35bd",
   "metadata": {},
   "outputs": [
    {
     "data": {
      "text/plain": [
       "16861"
      ]
     },
     "execution_count": 52,
     "metadata": {},
     "output_type": "execute_result"
    }
   ],
   "source": [
    "# step-1: total data                             {visa_df}\n",
    "# step-2: Select particular column               {visa_df['continent']\n",
    "# step-3: equating a specific label              {visa_df['continent'] == 'Asia'\n",
    "# step-4: Pass the True condition to entire DataFrame\n",
    "con = visa_df['continent'] =='Asia'\n",
    "visa_df[con]\n",
    "len(visa_df[con])"
   ]
  },
  {
   "cell_type": "code",
   "execution_count": 60,
   "id": "6e24e025-0c2f-4252-b67f-854546509383",
   "metadata": {},
   "outputs": [],
   "source": [
    "no_of_applications=[]\n",
    "labels = visa_df['continent'].unique()\n",
    "for i in labels:\n",
    "    con = visa_df['continent'] == i\n",
    "    count = len(visa_df[con])\n",
    "    no_of_applications.append(count)"
   ]
  },
  {
   "cell_type": "code",
   "execution_count": 62,
   "id": "e570b3e3-9de7-427b-b886-97ac8a8cb0b0",
   "metadata": {},
   "outputs": [
    {
     "data": {
      "text/plain": [
       "[16861, 551, 3292, 3732, 852, 192]"
      ]
     },
     "execution_count": 62,
     "metadata": {},
     "output_type": "execute_result"
    }
   ],
   "source": [
    "no_of_applications"
   ]
  },
  {
   "cell_type": "code",
   "execution_count": 64,
   "id": "da9a27a4-8ba1-418c-a9a3-466016c6996a",
   "metadata": {},
   "outputs": [
    {
     "data": {
      "text/plain": [
       "array(['Asia', 'Africa', 'North America', 'Europe', 'South America',\n",
       "       'Oceania'], dtype=object)"
      ]
     },
     "execution_count": 64,
     "metadata": {},
     "output_type": "execute_result"
    }
   ],
   "source": [
    "labels"
   ]
  },
  {
   "cell_type": "code",
   "execution_count": 74,
   "id": "171c86d4-bf4a-4321-a95f-da9f1edac3ab",
   "metadata": {},
   "outputs": [
    {
     "data": {
      "text/html": [
       "<div>\n",
       "<style scoped>\n",
       "    .dataframe tbody tr th:only-of-type {\n",
       "        vertical-align: middle;\n",
       "    }\n",
       "\n",
       "    .dataframe tbody tr th {\n",
       "        vertical-align: top;\n",
       "    }\n",
       "\n",
       "    .dataframe thead th {\n",
       "        text-align: right;\n",
       "    }\n",
       "</style>\n",
       "<table border=\"1\" class=\"dataframe\">\n",
       "  <thead>\n",
       "    <tr style=\"text-align: right;\">\n",
       "      <th></th>\n",
       "      <th>Continent</th>\n",
       "      <th>No applicants</th>\n",
       "    </tr>\n",
       "  </thead>\n",
       "  <tbody>\n",
       "    <tr>\n",
       "      <th>0</th>\n",
       "      <td>Asia</td>\n",
       "      <td>16861</td>\n",
       "    </tr>\n",
       "    <tr>\n",
       "      <th>1</th>\n",
       "      <td>Africa</td>\n",
       "      <td>551</td>\n",
       "    </tr>\n",
       "    <tr>\n",
       "      <th>2</th>\n",
       "      <td>North America</td>\n",
       "      <td>3292</td>\n",
       "    </tr>\n",
       "    <tr>\n",
       "      <th>3</th>\n",
       "      <td>Europe</td>\n",
       "      <td>3732</td>\n",
       "    </tr>\n",
       "    <tr>\n",
       "      <th>4</th>\n",
       "      <td>South America</td>\n",
       "      <td>852</td>\n",
       "    </tr>\n",
       "    <tr>\n",
       "      <th>5</th>\n",
       "      <td>Oceania</td>\n",
       "      <td>192</td>\n",
       "    </tr>\n",
       "  </tbody>\n",
       "</table>\n",
       "</div>"
      ],
      "text/plain": [
       "       Continent  No applicants\n",
       "0           Asia          16861\n",
       "1         Africa            551\n",
       "2  North America           3292\n",
       "3         Europe           3732\n",
       "4  South America            852\n",
       "5        Oceania            192"
      ]
     },
     "execution_count": 74,
     "metadata": {},
     "output_type": "execute_result"
    }
   ],
   "source": [
    "continent_df = pd.DataFrame(zip(labels,no_of_applications),\n",
    "             columns=['Continent', 'No applicants'])\n",
    "continent_df.to_csv('continent_df.csv', index=False)\n",
    "continent_df"
   ]
  },
  {
   "cell_type": "code",
   "execution_count": 80,
   "id": "80ceec19-98ef-4657-9255-68a107b0b8c1",
   "metadata": {},
   "outputs": [],
   "source": [
    "count = [] #change-1\n",
    "for col in cat[1:]:\n",
    "    labels = visa_df[col].unique()\n",
    "    for label in labels:\n",
    "        con = visa_df[col] == label\n",
    "        count.append(len(visa_df[con]))\n",
    "    df = pd.DataFrame(zip(labels,count),columns=['Column','Count'])\n",
    "    df.to_csv(f'{col}_df.csv',index=False)"
   ]
  },
  {
   "cell_type": "markdown",
   "id": "4ee91a95-4e26-493c-a10b-b2cd9e5b2952",
   "metadata": {},
   "source": [
    "**Value_counts**"
   ]
  },
  {
   "cell_type": "code",
   "execution_count": 11,
   "id": "da7d563d-6520-4650-8bcc-b4d1f4653c1e",
   "metadata": {},
   "outputs": [
    {
     "data": {
      "text/plain": [
       "continent\n",
       "Asia             16861\n",
       "Europe            3732\n",
       "North America     3292\n",
       "South America      852\n",
       "Africa             551\n",
       "Oceania            192\n",
       "Name: count, dtype: int64"
      ]
     },
     "execution_count": 11,
     "metadata": {},
     "output_type": "execute_result"
    }
   ],
   "source": [
    "continent_vc = visa_df['continent'].value_counts()\n",
    "continent_vc"
   ]
  },
  {
   "cell_type": "code",
   "execution_count": 13,
   "id": "29eae58c-5188-48ca-92b8-5f14d7328329",
   "metadata": {},
   "outputs": [],
   "source": [
    "keys = continent_vc.keys()"
   ]
  },
  {
   "cell_type": "code",
   "execution_count": 15,
   "id": "59fb56e3-4c3b-4d76-ad77-d7d998a8000b",
   "metadata": {},
   "outputs": [],
   "source": [
    "values = continent_vc.values"
   ]
  },
  {
   "cell_type": "code",
   "execution_count": 19,
   "id": "5b60b924-cd56-4cff-a2ae-adbceabb2d4e",
   "metadata": {},
   "outputs": [],
   "source": [
    "continent_df = pd.DataFrame(zip(keys,values), \n",
    "                            columns = ['Continent', 'Number of applicants'])"
   ]
  },
  {
   "cell_type": "code",
   "execution_count": 29,
   "id": "4d4b4d0f-a1a6-4384-8343-d86a6bbccce1",
   "metadata": {},
   "outputs": [],
   "source": [
    "for i in cat[1:]:\n",
    "    vc = visa_df[i].value_counts()\n",
    "    keys = vc.keys()\n",
    "    vaues = vc.values\n",
    "    vc_df = pd.DataFrame(zip(keys,values), columns=['Labels','Counts'])\n",
    "    vc_df.to_csv(f'{i}.csv', index = False)"
   ]
  },
  {
   "cell_type": "markdown",
   "id": "db019eb6-c975-481c-8969-a744f3ebe559",
   "metadata": {},
   "source": [
    "- Step-1:- Create a folder i.e freq_table\n",
    "- Step-2:- New directory = Python locaion + Folder name\n",
    "- Step-3:- New directory + colname.csv"
   ]
  },
  {
   "cell_type": "markdown",
   "id": "6f1d7dfe-5876-4cd3-93d3-8401792fc977",
   "metadata": {},
   "source": [
    "**Step-1:- Create a Folder**"
   ]
  },
  {
   "cell_type": "code",
   "execution_count": 40,
   "id": "2e0380be-f51b-46f6-ae77-f8e2beb405bc",
   "metadata": {},
   "outputs": [
    {
     "name": "stdout",
     "output_type": "stream",
     "text": [
      "[WinError 183] Cannot create a file when that file already exists: 'freq_tables'\n"
     ]
    }
   ],
   "source": [
    "import os\n",
    "folder_name = 'freq_tables'\n",
    "try:\n",
    "    os.makedirs(folder_name)\n",
    "except Exception as e:\n",
    "    print(e)"
   ]
  },
  {
   "cell_type": "markdown",
   "id": "387b8f16-e49e-4d11-8102-c168bb989802",
   "metadata": {},
   "source": [
    "**Step-2:- New Directory**"
   ]
  },
  {
   "cell_type": "code",
   "execution_count": 49,
   "id": "bb62c6d6-d400-4f81-aff8-e189cd34fc6e",
   "metadata": {},
   "outputs": [
    {
     "data": {
      "text/plain": [
       "'C:\\\\Users\\\\happy\\\\Data Science & AI\\\\Data Analaysis\\\\EDA\\\\freq_tables'"
      ]
     },
     "execution_count": 49,
     "metadata": {},
     "output_type": "execute_result"
    }
   ],
   "source": [
    "cwd = os.getcwd()\n",
    "nwd = os.path.join(cwd,folder_name)\n",
    "nwd"
   ]
  },
  {
   "cell_type": "markdown",
   "id": "c3b70303-8858-48be-8fad-18bbb3a95ba1",
   "metadata": {},
   "source": [
    "**Step-3:- Full paths**"
   ]
  },
  {
   "cell_type": "code",
   "execution_count": 52,
   "id": "ba957fb7-d0a2-4153-a43a-0da1fb77463f",
   "metadata": {},
   "outputs": [
    {
     "name": "stdout",
     "output_type": "stream",
     "text": [
      "C:\\Users\\happy\\Data Science & AI\\Data Analaysis\\EDA\\freq_tables\\continent_df.csv\n",
      "C:\\Users\\happy\\Data Science & AI\\Data Analaysis\\EDA\\freq_tables\\education_of_employee_df.csv\n",
      "C:\\Users\\happy\\Data Science & AI\\Data Analaysis\\EDA\\freq_tables\\has_job_experience_df.csv\n",
      "C:\\Users\\happy\\Data Science & AI\\Data Analaysis\\EDA\\freq_tables\\requires_job_training_df.csv\n",
      "C:\\Users\\happy\\Data Science & AI\\Data Analaysis\\EDA\\freq_tables\\region_of_employment_df.csv\n",
      "C:\\Users\\happy\\Data Science & AI\\Data Analaysis\\EDA\\freq_tables\\unit_of_wage_df.csv\n",
      "C:\\Users\\happy\\Data Science & AI\\Data Analaysis\\EDA\\freq_tables\\full_time_position_df.csv\n",
      "C:\\Users\\happy\\Data Science & AI\\Data Analaysis\\EDA\\freq_tables\\case_status_df.csv\n"
     ]
    }
   ],
   "source": [
    "for i in cat[1:]:\n",
    "    file_name = f'{i}_df.csv'\n",
    "    path = os.path.join(nwd, file_name)\n",
    "    print(path)"
   ]
  },
  {
   "cell_type": "code",
   "execution_count": 54,
   "id": "d54e5c94-e57c-41b3-b76e-c188d7857926",
   "metadata": {},
   "outputs": [
    {
     "name": "stdout",
     "output_type": "stream",
     "text": [
      "[WinError 183] Cannot create a file when that file already exists: 'freq_tables'\n"
     ]
    }
   ],
   "source": [
    "import os\n",
    "folder_name = 'freq_tables'\n",
    "try:\n",
    "    os.makedirs(folder_name)\n",
    "except Exception as e:\n",
    "    print(e)\n",
    "##########################################\n",
    "cwd = os.getcwd()\n",
    "nwd = os.path.join(cwd,folder_name)\n",
    "##########################################\n",
    "for i in cat[1:]:\n",
    "    vc = visa_df[i].value_counts()\n",
    "    keys = vc.keys()\n",
    "    values = vc.values\n",
    "    vc_df = pd.DataFrame(zip(keys,values),columns = ['Lables', 'Count'])\n",
    "    file_name = f'{i}_df.csv'\n",
    "    path = os.path.join(nwd,file_name)\n",
    "    vc_df.to_csv(path,index = False)"
   ]
  },
  {
   "cell_type": "markdown",
   "id": "2a1c4c01-06db-47e6-aba6-2597cda21a20",
   "metadata": {},
   "source": [
    "**groupby**\n",
    "- In Sql we have groupby option\n",
    "- Similarly, In python also we have groupby\n",
    "- First it will group the similar lables together\n",
    "- On that we can perform any math operations"
   ]
  },
  {
   "cell_type": "code",
   "execution_count": 61,
   "id": "17716c57-5c70-4a72-80c7-91462ecd2890",
   "metadata": {},
   "outputs": [
    {
     "data": {
      "text/plain": [
       "<pandas.core.groupby.generic.DataFrameGroupBy object at 0x00000294F83F2360>"
      ]
     },
     "execution_count": 61,
     "metadata": {},
     "output_type": "execute_result"
    }
   ],
   "source": [
    "visa_df.groupby('continent')"
   ]
  },
  {
   "cell_type": "code",
   "execution_count": 63,
   "id": "930fbe3b-17a8-4dd9-bf22-60706dbb03c9",
   "metadata": {},
   "outputs": [
    {
     "data": {
      "text/plain": [
       "[('Africa',\n",
       "           case_id continent education_of_employee has_job_experience  \\\n",
       "  4         EZYV05    Africa              Master's                  Y   \n",
       "  18        EZYV19    Africa              Master's                  Y   \n",
       "  74        EZYV75    Africa              Master's                  Y   \n",
       "  194      EZYV195    Africa              Master's                  Y   \n",
       "  242      EZYV243    Africa            Bachelor's                  N   \n",
       "  ...          ...       ...                   ...                ...   \n",
       "  25385  EZYV25386    Africa             Doctorate                  Y   \n",
       "  25408  EZYV25409    Africa              Master's                  Y   \n",
       "  25443  EZYV25444    Africa            Bachelor's                  N   \n",
       "  25446  EZYV25447    Africa              Master's                  N   \n",
       "  25474  EZYV25475    Africa             Doctorate                  N   \n",
       "  \n",
       "        requires_job_training  no_of_employees  yr_of_estab  \\\n",
       "  4                         N             1082         2005   \n",
       "  18                        N             4743         2004   \n",
       "  74                        N             3705         2001   \n",
       "  194                       N             2180         1992   \n",
       "  242                       Y             2509         2003   \n",
       "  ...                     ...              ...          ...   \n",
       "  25385                     N             2513         1975   \n",
       "  25408                     Y             1671         1992   \n",
       "  25443                     N            72892         2007   \n",
       "  25446                     Y             2024         1971   \n",
       "  25474                     N             2594         1979   \n",
       "  \n",
       "        region_of_employment  prevailing_wage unit_of_wage full_time_position  \\\n",
       "  4                    South        149907.39         Year                  Y   \n",
       "  18                 Midwest        150441.13         Year                  Y   \n",
       "  74                   South         47170.76         Year                  Y   \n",
       "  194                Midwest        113637.40         Year                  Y   \n",
       "  242                   West         51886.04         Year                  Y   \n",
       "  ...                    ...              ...          ...                ...   \n",
       "  25385                 West         76348.20         Year                  Y   \n",
       "  25408              Midwest         55756.35         Year                  Y   \n",
       "  25443            Northeast           215.10         Hour                  Y   \n",
       "  25446                South         42353.45         Year                  Y   \n",
       "  25474            Northeast         51104.78         Year                  Y   \n",
       "  \n",
       "        case_status  \n",
       "  4       Certified  \n",
       "  18      Certified  \n",
       "  74      Certified  \n",
       "  194     Certified  \n",
       "  242        Denied  \n",
       "  ...           ...  \n",
       "  25385   Certified  \n",
       "  25408   Certified  \n",
       "  25443   Certified  \n",
       "  25446   Certified  \n",
       "  25474   Certified  \n",
       "  \n",
       "  [551 rows x 12 columns]),\n",
       " ('Asia',\n",
       "           case_id continent education_of_employee has_job_experience  \\\n",
       "  0         EZYV01      Asia           High School                  N   \n",
       "  1         EZYV02      Asia              Master's                  Y   \n",
       "  2         EZYV03      Asia            Bachelor's                  N   \n",
       "  3         EZYV04      Asia            Bachelor's                  N   \n",
       "  5         EZYV06      Asia              Master's                  Y   \n",
       "  ...          ...       ...                   ...                ...   \n",
       "  25475  EZYV25476      Asia            Bachelor's                  Y   \n",
       "  25476  EZYV25477      Asia           High School                  Y   \n",
       "  25477  EZYV25478      Asia              Master's                  Y   \n",
       "  25478  EZYV25479      Asia              Master's                  Y   \n",
       "  25479  EZYV25480      Asia            Bachelor's                  Y   \n",
       "  \n",
       "        requires_job_training  no_of_employees  yr_of_estab  \\\n",
       "  0                         N            14513         2007   \n",
       "  1                         N             2412         2002   \n",
       "  2                         Y            44444         2008   \n",
       "  3                         N               98         1897   \n",
       "  5                         N             2339         2012   \n",
       "  ...                     ...              ...          ...   \n",
       "  25475                     Y             2601         2008   \n",
       "  25476                     N             3274         2006   \n",
       "  25477                     N             1121         1910   \n",
       "  25478                     Y             1918         1887   \n",
       "  25479                     N             3195         1960   \n",
       "  \n",
       "        region_of_employment  prevailing_wage unit_of_wage full_time_position  \\\n",
       "  0                     West         592.2029         Hour                  Y   \n",
       "  1                Northeast       83425.6500         Year                  Y   \n",
       "  2                     West      122996.8600         Year                  Y   \n",
       "  3                     West       83434.0300         Year                  Y   \n",
       "  5                    South       78252.1400         Year                  Y   \n",
       "  ...                    ...              ...          ...                ...   \n",
       "  25475                South       77092.5700         Year                  Y   \n",
       "  25476            Northeast      279174.7900         Year                  Y   \n",
       "  25477                South      146298.8500         Year                  N   \n",
       "  25478                 West       86154.7700         Year                  Y   \n",
       "  25479              Midwest       70876.9100         Year                  Y   \n",
       "  \n",
       "        case_status  \n",
       "  0          Denied  \n",
       "  1       Certified  \n",
       "  2          Denied  \n",
       "  3          Denied  \n",
       "  5       Certified  \n",
       "  ...           ...  \n",
       "  25475   Certified  \n",
       "  25476   Certified  \n",
       "  25477   Certified  \n",
       "  25478   Certified  \n",
       "  25479   Certified  \n",
       "  \n",
       "  [16861 rows x 12 columns]),\n",
       " ('Europe',\n",
       "           case_id continent education_of_employee has_job_experience  \\\n",
       "  9         EZYV10    Europe             Doctorate                  Y   \n",
       "  16        EZYV17    Europe              Master's                  Y   \n",
       "  24        EZYV25    Europe             Doctorate                  Y   \n",
       "  36        EZYV37    Europe           High School                  Y   \n",
       "  37        EZYV38    Europe              Master's                  Y   \n",
       "  ...          ...       ...                   ...                ...   \n",
       "  25435  EZYV25436    Europe            Bachelor's                  N   \n",
       "  25448  EZYV25449    Europe             Doctorate                  Y   \n",
       "  25460  EZYV25461    Europe              Master's                  Y   \n",
       "  25462  EZYV25463    Europe            Bachelor's                  N   \n",
       "  25466  EZYV25467    Europe            Bachelor's                  Y   \n",
       "  \n",
       "        requires_job_training  no_of_employees  yr_of_estab  \\\n",
       "  9                         N             2251         1995   \n",
       "  16                        N            76638         1991   \n",
       "  24                        N              241         1981   \n",
       "  36                        N             2520         1981   \n",
       "  37                        Y               44         1965   \n",
       "  ...                     ...              ...          ...   \n",
       "  25435                     N             1606         1998   \n",
       "  25448                     N             4119         1971   \n",
       "  25460                     Y              413         1997   \n",
       "  25462                     Y             1715         2004   \n",
       "  25466                     N             1938         2005   \n",
       "  \n",
       "        region_of_employment  prevailing_wage unit_of_wage full_time_position  \\\n",
       "  9                    South         67514.76         Year                  Y   \n",
       "  16                 Midwest          3706.79         Year                  Y   \n",
       "  24                 Midwest         71286.04         Year                  Y   \n",
       "  36                    West          2490.12         Year                  Y   \n",
       "  37                   South        110817.26         Year                  Y   \n",
       "  ...                    ...              ...          ...                ...   \n",
       "  25435                South        126329.96         Year                  Y   \n",
       "  25448                 West         86894.10         Year                  Y   \n",
       "  25460                 West          8263.47         Year                  Y   \n",
       "  25462                 West        166032.62         Year                  Y   \n",
       "  25466                 West          6973.40         Year                  Y   \n",
       "  \n",
       "        case_status  \n",
       "  9       Certified  \n",
       "  16      Certified  \n",
       "  24      Certified  \n",
       "  36         Denied  \n",
       "  37      Certified  \n",
       "  ...           ...  \n",
       "  25435   Certified  \n",
       "  25448   Certified  \n",
       "  25460   Certified  \n",
       "  25462      Denied  \n",
       "  25466      Denied  \n",
       "  \n",
       "  [3732 rows x 12 columns]),\n",
       " ('North America',\n",
       "           case_id      continent education_of_employee has_job_experience  \\\n",
       "  7         EZYV08  North America            Bachelor's                  Y   \n",
       "  21        EZYV22  North America              Master's                  Y   \n",
       "  23        EZYV24  North America           High School                  N   \n",
       "  25        EZYV26  North America              Master's                  N   \n",
       "  43        EZYV44  North America              Master's                  Y   \n",
       "  ...          ...            ...                   ...                ...   \n",
       "  25451  EZYV25452  North America           High School                  Y   \n",
       "  25465  EZYV25466  North America           High School                  N   \n",
       "  25467  EZYV25468  North America              Master's                  N   \n",
       "  25469  EZYV25470  North America              Master's                  Y   \n",
       "  25470  EZYV25471  North America              Master's                  Y   \n",
       "  \n",
       "        requires_job_training  no_of_employees  yr_of_estab  \\\n",
       "  7                         N             3035         1924   \n",
       "  21                        N             1706         2013   \n",
       "  23                        N             1517         1884   \n",
       "  25                        N             1100         1997   \n",
       "  43                        N             2582         1989   \n",
       "  ...                     ...              ...          ...   \n",
       "  25451                     N               97         2013   \n",
       "  25465                     N             2577         1995   \n",
       "  25467                     Y             2504         1882   \n",
       "  25469                     N             2261         1997   \n",
       "  25470                     N             2272         1970   \n",
       "  \n",
       "        region_of_employment  prevailing_wage unit_of_wage full_time_position  \\\n",
       "  7                     West         418.2298         Hour                  Y   \n",
       "  21                 Midwest      137694.9800         Year                  N   \n",
       "  23                 Midwest       90108.3800         Year                  N   \n",
       "  25                 Midwest       99489.6500         Year                  Y   \n",
       "  43                   South       54614.4200         Year                  Y   \n",
       "  ...                    ...              ...          ...                ...   \n",
       "  25451            Northeast      111518.5900         Year                  N   \n",
       "  25465                South         481.2238         Hour                  Y   \n",
       "  25467            Northeast      105900.6600         Year                  Y   \n",
       "  25469            Northeast      273772.4700         Year                  N   \n",
       "  25470            Northeast         516.4101         Hour                  Y   \n",
       "  \n",
       "        case_status  \n",
       "  7          Denied  \n",
       "  21      Certified  \n",
       "  23      Certified  \n",
       "  25      Certified  \n",
       "  43      Certified  \n",
       "  ...           ...  \n",
       "  25451      Denied  \n",
       "  25465   Certified  \n",
       "  25467   Certified  \n",
       "  25469   Certified  \n",
       "  25470   Certified  \n",
       "  \n",
       "  [3292 rows x 12 columns]),\n",
       " ('Oceania',\n",
       "           case_id continent education_of_employee has_job_experience  \\\n",
       "  241      EZYV242   Oceania             Doctorate                  Y   \n",
       "  288      EZYV289   Oceania            Bachelor's                  N   \n",
       "  708      EZYV709   Oceania            Bachelor's                  N   \n",
       "  955      EZYV956   Oceania              Master's                  N   \n",
       "  960      EZYV961   Oceania            Bachelor's                  N   \n",
       "  ...          ...       ...                   ...                ...   \n",
       "  24865  EZYV24866   Oceania             Doctorate                  N   \n",
       "  25150  EZYV25151   Oceania              Master's                  Y   \n",
       "  25196  EZYV25197   Oceania            Bachelor's                  Y   \n",
       "  25404  EZYV25405   Oceania             Doctorate                  Y   \n",
       "  25405  EZYV25406   Oceania              Master's                  Y   \n",
       "  \n",
       "        requires_job_training  no_of_employees  yr_of_estab  \\\n",
       "  241                       N             2871         2009   \n",
       "  288                       N             2288         2011   \n",
       "  708                       N             3227         1928   \n",
       "  955                       N            17541         1986   \n",
       "  960                       N              363         2013   \n",
       "  ...                     ...              ...          ...   \n",
       "  24865                     Y             3487         1930   \n",
       "  25150                     N             1076         1869   \n",
       "  25196                     N              385         2000   \n",
       "  25404                     N              429         2006   \n",
       "  25405                     N             1829         1993   \n",
       "  \n",
       "        region_of_employment  prevailing_wage unit_of_wage full_time_position  \\\n",
       "  241                  South         56606.54        Month                  Y   \n",
       "  288                   West         82385.60         Year                  Y   \n",
       "  708                Midwest         92422.74         Year                  Y   \n",
       "  955              Northeast         75224.53         Year                  Y   \n",
       "  960              Northeast         97469.69         Year                  Y   \n",
       "  ...                    ...              ...          ...                ...   \n",
       "  24865                 West         59969.55         Year                  Y   \n",
       "  25150            Northeast         87467.12         Year                  N   \n",
       "  25196                South         94420.47         Year                  Y   \n",
       "  25404                 West         27819.35         Year                  Y   \n",
       "  25405            Northeast         74975.25         Year                  Y   \n",
       "  \n",
       "        case_status  \n",
       "  241     Certified  \n",
       "  288        Denied  \n",
       "  708     Certified  \n",
       "  955        Denied  \n",
       "  960        Denied  \n",
       "  ...           ...  \n",
       "  24865      Denied  \n",
       "  25150   Certified  \n",
       "  25196   Certified  \n",
       "  25404   Certified  \n",
       "  25405   Certified  \n",
       "  \n",
       "  [192 rows x 12 columns]),\n",
       " ('South America',\n",
       "           case_id      continent education_of_employee has_job_experience  \\\n",
       "  121      EZYV122  South America            Bachelor's                  N   \n",
       "  130      EZYV131  South America           High School                  N   \n",
       "  171      EZYV172  South America            Bachelor's                  Y   \n",
       "  188      EZYV189  South America              Master's                  Y   \n",
       "  224      EZYV225  South America            Bachelor's                  N   \n",
       "  ...          ...            ...                   ...                ...   \n",
       "  25319  EZYV25320  South America              Master's                  Y   \n",
       "  25364  EZYV25365  South America            Bachelor's                  Y   \n",
       "  25413  EZYV25414  South America              Master's                  Y   \n",
       "  25444  EZYV25445  South America              Master's                  Y   \n",
       "  25455  EZYV25456  South America            Bachelor's                  N   \n",
       "  \n",
       "        requires_job_training  no_of_employees  yr_of_estab  \\\n",
       "  121                       N             1415         1913   \n",
       "  130                       N             2554         2005   \n",
       "  171                       N             5461         1979   \n",
       "  188                       N             1551         1989   \n",
       "  224                       N             1004         1960   \n",
       "  ...                     ...              ...          ...   \n",
       "  25319                     N             1186         2004   \n",
       "  25364                     N             1269         2000   \n",
       "  25413                     N             2423         2005   \n",
       "  25444                     N             1081         1838   \n",
       "  25455                     N            24335         1993   \n",
       "  \n",
       "        region_of_employment  prevailing_wage unit_of_wage full_time_position  \\\n",
       "  121              Northeast        53114.020         Year                  Y   \n",
       "  130                Midwest       247393.010         Year                  Y   \n",
       "  171              Northeast         9078.620         Year                  Y   \n",
       "  188                   West          630.660         Year                  Y   \n",
       "  224                Midwest       135792.520         Year                  Y   \n",
       "  ...                    ...              ...          ...                ...   \n",
       "  25319                 West        75773.380         Year                  Y   \n",
       "  25364                South         5769.540         Year                  Y   \n",
       "  25413              Midwest       163067.990         Year                  Y   \n",
       "  25444            Northeast          156.607         Hour                  Y   \n",
       "  25455              Midwest        97393.490         Year                  Y   \n",
       "  \n",
       "        case_status  \n",
       "  121        Denied  \n",
       "  130     Certified  \n",
       "  171     Certified  \n",
       "  188     Certified  \n",
       "  224     Certified  \n",
       "  ...           ...  \n",
       "  25319      Denied  \n",
       "  25364   Certified  \n",
       "  25413   Certified  \n",
       "  25444   Certified  \n",
       "  25455   Certified  \n",
       "  \n",
       "  [852 rows x 12 columns])]"
      ]
     },
     "execution_count": 63,
     "metadata": {},
     "output_type": "execute_result"
    }
   ],
   "source": [
    "list(visa_df.groupby('continent'))"
   ]
  },
  {
   "cell_type": "code",
   "execution_count": 65,
   "id": "b72f6f5c-6d50-4e4e-87c3-8e2010e445b2",
   "metadata": {},
   "outputs": [
    {
     "data": {
      "text/plain": [
       "continent\n",
       "Africa             551\n",
       "Asia             16861\n",
       "Europe            3732\n",
       "North America     3292\n",
       "Oceania            192\n",
       "South America      852\n",
       "dtype: int64"
      ]
     },
     "execution_count": 65,
     "metadata": {},
     "output_type": "execute_result"
    }
   ],
   "source": [
    "visa_df.groupby('continent').size()"
   ]
  },
  {
   "cell_type": "code",
   "execution_count": 67,
   "id": "2555fcd3-975d-445c-b6b4-cec23205878c",
   "metadata": {},
   "outputs": [
    {
     "data": {
      "text/plain": [
       "continent\n",
       "Asia             16861\n",
       "Europe            3732\n",
       "North America     3292\n",
       "South America      852\n",
       "Africa             551\n",
       "Oceania            192\n",
       "Name: count, dtype: int64"
      ]
     },
     "execution_count": 67,
     "metadata": {},
     "output_type": "execute_result"
    }
   ],
   "source": [
    "visa_df['continent'].value_counts()"
   ]
  },
  {
   "cell_type": "markdown",
   "id": "d7097169-4b84-4b95-b624-b2344e9a3c19",
   "metadata": {},
   "source": [
    "**Bar Charts**\n",
    "- bar charts under the matplotlib\n",
    "- plt.bar\n",
    "- bar chart needs class names and class frequency\n",
    "- class names we can get from value counts\n",
    "- class frequency we can get from value counts"
   ]
  },
  {
   "cell_type": "code",
   "execution_count": 23,
   "id": "8b83ca48-49f0-4be1-80ae-b6c7bdccbd0a",
   "metadata": {},
   "outputs": [],
   "source": [
    "keys = visa_df['continent'].value_counts().keys()\n",
    "values = visa_df['continent'].value_counts().values"
   ]
  },
  {
   "cell_type": "code",
   "execution_count": 25,
   "id": "875bb65b-2a2f-4bb9-8f8c-6ecb8dd884b3",
   "metadata": {},
   "outputs": [
    {
     "data": {
      "text/plain": [
       "<BarContainer object of 6 artists>"
      ]
     },
     "execution_count": 25,
     "metadata": {},
     "output_type": "execute_result"
    },
    {
     "data": {
      "image/png": "[encoded data removed]",
      "text/plain": [
       "<Figure size 640x480 with 1 Axes>"
      ]
     },
     "metadata": {},
     "output_type": "display_data"
    }
   ],
   "source": [
    "plt.bar(keys,values)"
   ]
  },
  {
   "cell_type": "code",
   "execution_count": null,
   "id": "1ede6ddf-cae6-4177-9716-a1993b73de78",
   "metadata": {},
   "outputs": [],
   "source": []
  }
 ],
 "metadata": {
  "kernelspec": {
   "display_name": "Python [conda env:base] *",
   "language": "python",
   "name": "conda-base-py"
  },
  "language_info": {
   "codemirror_mode": {
    "name": "ipython",
    "version": 3
   },
   "file_extension": ".py",
   "mimetype": "text/x-python",
   "name": "python",
   "nbconvert_exporter": "python",
   "pygments_lexer": "ipython3",
   "version": "3.12.7"
  }
 },
 "nbformat": 4,
 "nbformat_minor": 5
}
