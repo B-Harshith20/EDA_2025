{
 "cells": [
  {
   "cell_type": "code",
   "execution_count": 1,
   "id": "47a82a57-7199-4e98-8bbe-49e094af3410",
   "metadata": {},
   "outputs": [
    {
     "data": {
      "text/plain": [
       "Index(['no_of_employees', 'yr_of_estab', 'prevailing_wage'], dtype='object')"
      ]
     },
     "execution_count": 1,
     "metadata": {},
     "output_type": "execute_result"
    }
   ],
   "source": [
    "import pandas as pd\n",
    "import numpy as np\n",
    "import matplotlib.pyplot as plt\n",
    "import seaborn as sns\n",
    "\n",
    "visa_df=pd.read_csv('Visadataset.csv')\n",
    "\n",
    "cat=visa_df.select_dtypes(include='object').columns\n",
    "num=visa_df.select_dtypes(exclude='object').columns\n",
    "num"
   ]
  },
  {
   "cell_type": "markdown",
   "id": "755ef765-5492-4b8a-8e41-f648204bdeb4",
   "metadata": {},
   "source": [
    "- We have two scale methods\n",
    "    - 1. Z-score\n",
    "    - 2. MinMaxScore"
   ]
  },
  {
   "cell_type": "markdown",
   "id": "cdf917da-2399-4e4d-adba-dce6baaaf8a4",
   "metadata": {},
   "source": [
    "<img class=\"XqHOTb IGEbUc\" alt=\"Z = \\frac{x - \\mu}{\\sigma}\" src=\"https://www.gstatic.com/education/formulas2/553212783/en/z_score.svg\" role=\"img\" data-csiid=\"ZE0baOa4HYuvseMP2r-0mQ0_14\" data-atf=\"1\">"
   ]
  },
  {
   "cell_type": "code",
   "execution_count": null,
   "id": "40496537-f1f9-4fa8-8e65-dbb79aad8ac0",
   "metadata": {},
   "outputs": [],
   "source": [
    "# Step-1: x = prevailating wage data\n",
    "# Step-2: Calculate mean: u\n",
    "# Step-3: Calculate std\n",
    "# Step-4: Nr = Step1 - Step2\n",
    "# Step-5: Z = Step4/Step3\n",
    "# Step-6: Create a new column pwage_z\n",
    "# Step-7: Draw the distribution plot for both prevailiaing_wage and pwage_z\n"
   ]
  },
  {
   "cell_type": "code",
   "execution_count": 6,
   "id": "a40fdb79-8887-4666-8f16-21b418d48054",
   "metadata": {},
   "outputs": [
    {
     "data": {
      "text/html": [
       "<div>\n",
       "<style scoped>\n",
       "    .dataframe tbody tr th:only-of-type {\n",
       "        vertical-align: middle;\n",
       "    }\n",
       "\n",
       "    .dataframe tbody tr th {\n",
       "        vertical-align: top;\n",
       "    }\n",
       "\n",
       "    .dataframe thead th {\n",
       "        text-align: right;\n",
       "    }\n",
       "</style>\n",
       "<table border=\"1\" class=\"dataframe\">\n",
       "  <thead>\n",
       "    <tr style=\"text-align: right;\">\n",
       "      <th></th>\n",
       "      <th>prevailing_wage</th>\n",
       "      <th>p_wage_z</th>\n",
       "    </tr>\n",
       "  </thead>\n",
       "  <tbody>\n",
       "    <tr>\n",
       "      <th>0</th>\n",
       "      <td>592.2029</td>\n",
       "      <td>-1.398510</td>\n",
       "    </tr>\n",
       "    <tr>\n",
       "      <th>1</th>\n",
       "      <td>83425.6500</td>\n",
       "      <td>0.169832</td>\n",
       "    </tr>\n",
       "    <tr>\n",
       "      <th>2</th>\n",
       "      <td>122996.8600</td>\n",
       "      <td>0.919060</td>\n",
       "    </tr>\n",
       "    <tr>\n",
       "      <th>3</th>\n",
       "      <td>83434.0300</td>\n",
       "      <td>0.169991</td>\n",
       "    </tr>\n",
       "    <tr>\n",
       "      <th>4</th>\n",
       "      <td>149907.3900</td>\n",
       "      <td>1.428576</td>\n",
       "    </tr>\n",
       "    <tr>\n",
       "      <th>...</th>\n",
       "      <td>...</td>\n",
       "      <td>...</td>\n",
       "    </tr>\n",
       "    <tr>\n",
       "      <th>25475</th>\n",
       "      <td>77092.5700</td>\n",
       "      <td>0.049923</td>\n",
       "    </tr>\n",
       "    <tr>\n",
       "      <th>25476</th>\n",
       "      <td>279174.7900</td>\n",
       "      <td>3.876083</td>\n",
       "    </tr>\n",
       "    <tr>\n",
       "      <th>25477</th>\n",
       "      <td>146298.8500</td>\n",
       "      <td>1.360253</td>\n",
       "    </tr>\n",
       "    <tr>\n",
       "      <th>25478</th>\n",
       "      <td>86154.7700</td>\n",
       "      <td>0.221504</td>\n",
       "    </tr>\n",
       "    <tr>\n",
       "      <th>25479</th>\n",
       "      <td>70876.9100</td>\n",
       "      <td>-0.067762</td>\n",
       "    </tr>\n",
       "  </tbody>\n",
       "</table>\n",
       "<p>25480 rows × 2 columns</p>\n",
       "</div>"
      ],
      "text/plain": [
       "       prevailing_wage  p_wage_z\n",
       "0             592.2029 -1.398510\n",
       "1           83425.6500  0.169832\n",
       "2          122996.8600  0.919060\n",
       "3           83434.0300  0.169991\n",
       "4          149907.3900  1.428576\n",
       "...                ...       ...\n",
       "25475       77092.5700  0.049923\n",
       "25476      279174.7900  3.876083\n",
       "25477      146298.8500  1.360253\n",
       "25478       86154.7700  0.221504\n",
       "25479       70876.9100 -0.067762\n",
       "\n",
       "[25480 rows x 2 columns]"
      ]
     },
     "execution_count": 6,
     "metadata": {},
     "output_type": "execute_result"
    }
   ],
   "source": [
    "x = visa_df['prevailing_wage']\n",
    "u = x.mean()\n",
    "sigma = x.std()\n",
    "Nr = x - u\n",
    "visa_df['p_wage_z']= Nr/sigma\n",
    "visa_df[['prevailing_wage','p_wage_z']]"
   ]
  },
  {
   "cell_type": "code",
   "execution_count": 16,
   "id": "f007e883-ff53-4c65-8384-cf27ed768df3",
   "metadata": {},
   "outputs": [
    {
     "data": {
      "image/png": "[encoded data removed]",
      "text/plain": [
       "<Figure size 800x300 with 2 Axes>"
      ]
     },
     "metadata": {},
     "output_type": "display_data"
    }
   ],
   "source": [
    "plt.figure(figsize=(8,3))\n",
    "plt.subplot(1,2,1).hist(visa_df['prevailing_wage'], bins = 40)\n",
    "plt.subplot(1,2,2).hist(visa_df['p_wage_z'], bins = 40)\n",
    "plt.show()"
   ]
  },
  {
   "cell_type": "markdown",
   "id": "7a1c0bec-b7d1-40b6-b10c-db9e2342a688",
   "metadata": {},
   "source": [
    "**Standard Sclar**\n",
    "- sklearn\n",
    "  - preprocessing\n",
    "    - standard sclar"
   ]
  },
  {
   "cell_type": "code",
   "execution_count": 19,
   "id": "671642a7-9271-4155-b8db-07312ac201a1",
   "metadata": {},
   "outputs": [],
   "source": [
    "# Read the package\n",
    "# Save the package\n",
    "# Apply fit transform\n",
    "from sklearn.preprocessing import StandardScaler\n",
    "ss = StandardScaler()\n",
    "visa_df['p_wage_ss'] = ss.fit_transform(visa_df[['prevailing_wage']])"
   ]
  },
  {
   "cell_type": "code",
   "execution_count": 21,
   "id": "f3b76070-463c-4395-aef2-b4ebffecffce",
   "metadata": {},
   "outputs": [
    {
     "data": {
      "text/html": [
       "<div>\n",
       "<style scoped>\n",
       "    .dataframe tbody tr th:only-of-type {\n",
       "        vertical-align: middle;\n",
       "    }\n",
       "\n",
       "    .dataframe tbody tr th {\n",
       "        vertical-align: top;\n",
       "    }\n",
       "\n",
       "    .dataframe thead th {\n",
       "        text-align: right;\n",
       "    }\n",
       "</style>\n",
       "<table border=\"1\" class=\"dataframe\">\n",
       "  <thead>\n",
       "    <tr style=\"text-align: right;\">\n",
       "      <th></th>\n",
       "      <th>prevailing_wage</th>\n",
       "      <th>p_wage_z</th>\n",
       "      <th>p_wage_ss</th>\n",
       "    </tr>\n",
       "  </thead>\n",
       "  <tbody>\n",
       "    <tr>\n",
       "      <th>0</th>\n",
       "      <td>592.2029</td>\n",
       "      <td>-1.398510</td>\n",
       "      <td>-1.398537</td>\n",
       "    </tr>\n",
       "    <tr>\n",
       "      <th>1</th>\n",
       "      <td>83425.6500</td>\n",
       "      <td>0.169832</td>\n",
       "      <td>0.169835</td>\n",
       "    </tr>\n",
       "    <tr>\n",
       "      <th>2</th>\n",
       "      <td>122996.8600</td>\n",
       "      <td>0.919060</td>\n",
       "      <td>0.919079</td>\n",
       "    </tr>\n",
       "    <tr>\n",
       "      <th>3</th>\n",
       "      <td>83434.0300</td>\n",
       "      <td>0.169991</td>\n",
       "      <td>0.169994</td>\n",
       "    </tr>\n",
       "    <tr>\n",
       "      <th>4</th>\n",
       "      <td>149907.3900</td>\n",
       "      <td>1.428576</td>\n",
       "      <td>1.428604</td>\n",
       "    </tr>\n",
       "    <tr>\n",
       "      <th>...</th>\n",
       "      <td>...</td>\n",
       "      <td>...</td>\n",
       "      <td>...</td>\n",
       "    </tr>\n",
       "    <tr>\n",
       "      <th>25475</th>\n",
       "      <td>77092.5700</td>\n",
       "      <td>0.049923</td>\n",
       "      <td>0.049924</td>\n",
       "    </tr>\n",
       "    <tr>\n",
       "      <th>25476</th>\n",
       "      <td>279174.7900</td>\n",
       "      <td>3.876083</td>\n",
       "      <td>3.876159</td>\n",
       "    </tr>\n",
       "    <tr>\n",
       "      <th>25477</th>\n",
       "      <td>146298.8500</td>\n",
       "      <td>1.360253</td>\n",
       "      <td>1.360280</td>\n",
       "    </tr>\n",
       "    <tr>\n",
       "      <th>25478</th>\n",
       "      <td>86154.7700</td>\n",
       "      <td>0.221504</td>\n",
       "      <td>0.221509</td>\n",
       "    </tr>\n",
       "    <tr>\n",
       "      <th>25479</th>\n",
       "      <td>70876.9100</td>\n",
       "      <td>-0.067762</td>\n",
       "      <td>-0.067763</td>\n",
       "    </tr>\n",
       "  </tbody>\n",
       "</table>\n",
       "<p>25480 rows × 3 columns</p>\n",
       "</div>"
      ],
      "text/plain": [
       "       prevailing_wage  p_wage_z  p_wage_ss\n",
       "0             592.2029 -1.398510  -1.398537\n",
       "1           83425.6500  0.169832   0.169835\n",
       "2          122996.8600  0.919060   0.919079\n",
       "3           83434.0300  0.169991   0.169994\n",
       "4          149907.3900  1.428576   1.428604\n",
       "...                ...       ...        ...\n",
       "25475       77092.5700  0.049923   0.049924\n",
       "25476      279174.7900  3.876083   3.876159\n",
       "25477      146298.8500  1.360253   1.360280\n",
       "25478       86154.7700  0.221504   0.221509\n",
       "25479       70876.9100 -0.067762  -0.067763\n",
       "\n",
       "[25480 rows x 3 columns]"
      ]
     },
     "execution_count": 21,
     "metadata": {},
     "output_type": "execute_result"
    }
   ],
   "source": [
    "visa_df[['prevailing_wage','p_wage_z','p_wage_ss']]"
   ]
  },
  {
   "cell_type": "markdown",
   "id": "05e9ec50-ace4-4cdb-bd04-0ee9dfc6904e",
   "metadata": {},
   "source": [
    "**Normalization**"
   ]
  },
  {
   "cell_type": "markdown",
   "id": "51c06180-93a1-41af-a19e-29d0a28a4a42",
   "metadata": {},
   "source": [
    "<img id=\"dimg_wlYbaNibHZjC4-EPq9aW0As_19\" src=\"data:image/png;base64,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\" class=\"YQ4gaf\" height=\"133\" style=\"object-position:40% 50%\" width=\"379\" alt=\"How Min-Max Scaler Works. The math ...\" data-csiid=\"wlYbaNibHZjC4-EPq9aW0As_6\" data-atf=\"1\">"
   ]
  },
  {
   "cell_type": "code",
   "execution_count": 31,
   "id": "038e2ffb-6d32-4950-a53d-c46361ce6788",
   "metadata": {},
   "outputs": [],
   "source": [
    "visa_df = pd.read_csv('Visadataset.csv')\n",
    "x = visa_df['prevailing_wage']\n",
    "x_min = np.min(x)\n",
    "x_max = np.max(x)\n",
    "Nr = x - x_min\n",
    "Dr = x_max - x_min\n",
    "visa_df['p_wage_norm'] = Nr/Dr"
   ]
  },
  {
   "cell_type": "code",
   "execution_count": 37,
   "id": "1dd1f53c-5d88-49b3-8c5c-b342af39d781",
   "metadata": {},
   "outputs": [
    {
     "ename": "KeyError",
     "evalue": "\"['pervailing_wage'] not in index\"",
     "output_type": "error",
     "traceback": [
      "\u001b[1;31m---------------------------------------------------------------------------\u001b[0m",
      "\u001b[1;31mKeyError\u001b[0m                                  Traceback (most recent call last)",
      "Cell \u001b[1;32mIn[37], line 2\u001b[0m\n\u001b[0;32m      1\u001b[0m \u001b[38;5;66;03m# idx max will give an ID where each column value has maximum\u001b[39;00m\n\u001b[1;32m----> 2\u001b[0m visa_df[[\u001b[38;5;124m'\u001b[39m\u001b[38;5;124mpervailing_wage\u001b[39m\u001b[38;5;124m'\u001b[39m,\u001b[38;5;124m'\u001b[39m\u001b[38;5;124mp_wage_norm\u001b[39m\u001b[38;5;124m'\u001b[39m]]\u001b[38;5;241m.\u001b[39midxmax()\n",
      "File \u001b[1;32m~\\anaconda3\\Lib\\site-packages\\pandas\\core\\frame.py:4108\u001b[0m, in \u001b[0;36mDataFrame.__getitem__\u001b[1;34m(self, key)\u001b[0m\n\u001b[0;32m   4106\u001b[0m     \u001b[38;5;28;01mif\u001b[39;00m is_iterator(key):\n\u001b[0;32m   4107\u001b[0m         key \u001b[38;5;241m=\u001b[39m \u001b[38;5;28mlist\u001b[39m(key)\n\u001b[1;32m-> 4108\u001b[0m     indexer \u001b[38;5;241m=\u001b[39m \u001b[38;5;28mself\u001b[39m\u001b[38;5;241m.\u001b[39mcolumns\u001b[38;5;241m.\u001b[39m_get_indexer_strict(key, \u001b[38;5;124m\"\u001b[39m\u001b[38;5;124mcolumns\u001b[39m\u001b[38;5;124m\"\u001b[39m)[\u001b[38;5;241m1\u001b[39m]\n\u001b[0;32m   4110\u001b[0m \u001b[38;5;66;03m# take() does not accept boolean indexers\u001b[39;00m\n\u001b[0;32m   4111\u001b[0m \u001b[38;5;28;01mif\u001b[39;00m \u001b[38;5;28mgetattr\u001b[39m(indexer, \u001b[38;5;124m\"\u001b[39m\u001b[38;5;124mdtype\u001b[39m\u001b[38;5;124m\"\u001b[39m, \u001b[38;5;28;01mNone\u001b[39;00m) \u001b[38;5;241m==\u001b[39m \u001b[38;5;28mbool\u001b[39m:\n",
      "File \u001b[1;32m~\\anaconda3\\Lib\\site-packages\\pandas\\core\\indexes\\base.py:6200\u001b[0m, in \u001b[0;36mIndex._get_indexer_strict\u001b[1;34m(self, key, axis_name)\u001b[0m\n\u001b[0;32m   6197\u001b[0m \u001b[38;5;28;01melse\u001b[39;00m:\n\u001b[0;32m   6198\u001b[0m     keyarr, indexer, new_indexer \u001b[38;5;241m=\u001b[39m \u001b[38;5;28mself\u001b[39m\u001b[38;5;241m.\u001b[39m_reindex_non_unique(keyarr)\n\u001b[1;32m-> 6200\u001b[0m \u001b[38;5;28mself\u001b[39m\u001b[38;5;241m.\u001b[39m_raise_if_missing(keyarr, indexer, axis_name)\n\u001b[0;32m   6202\u001b[0m keyarr \u001b[38;5;241m=\u001b[39m \u001b[38;5;28mself\u001b[39m\u001b[38;5;241m.\u001b[39mtake(indexer)\n\u001b[0;32m   6203\u001b[0m \u001b[38;5;28;01mif\u001b[39;00m \u001b[38;5;28misinstance\u001b[39m(key, Index):\n\u001b[0;32m   6204\u001b[0m     \u001b[38;5;66;03m# GH 42790 - Preserve name from an Index\u001b[39;00m\n",
      "File \u001b[1;32m~\\anaconda3\\Lib\\site-packages\\pandas\\core\\indexes\\base.py:6252\u001b[0m, in \u001b[0;36mIndex._raise_if_missing\u001b[1;34m(self, key, indexer, axis_name)\u001b[0m\n\u001b[0;32m   6249\u001b[0m     \u001b[38;5;28;01mraise\u001b[39;00m \u001b[38;5;167;01mKeyError\u001b[39;00m(\u001b[38;5;124mf\u001b[39m\u001b[38;5;124m\"\u001b[39m\u001b[38;5;124mNone of [\u001b[39m\u001b[38;5;132;01m{\u001b[39;00mkey\u001b[38;5;132;01m}\u001b[39;00m\u001b[38;5;124m] are in the [\u001b[39m\u001b[38;5;132;01m{\u001b[39;00maxis_name\u001b[38;5;132;01m}\u001b[39;00m\u001b[38;5;124m]\u001b[39m\u001b[38;5;124m\"\u001b[39m)\n\u001b[0;32m   6251\u001b[0m not_found \u001b[38;5;241m=\u001b[39m \u001b[38;5;28mlist\u001b[39m(ensure_index(key)[missing_mask\u001b[38;5;241m.\u001b[39mnonzero()[\u001b[38;5;241m0\u001b[39m]]\u001b[38;5;241m.\u001b[39munique())\n\u001b[1;32m-> 6252\u001b[0m \u001b[38;5;28;01mraise\u001b[39;00m \u001b[38;5;167;01mKeyError\u001b[39;00m(\u001b[38;5;124mf\u001b[39m\u001b[38;5;124m\"\u001b[39m\u001b[38;5;132;01m{\u001b[39;00mnot_found\u001b[38;5;132;01m}\u001b[39;00m\u001b[38;5;124m not in index\u001b[39m\u001b[38;5;124m\"\u001b[39m)\n",
      "\u001b[1;31mKeyError\u001b[0m: \"['pervailing_wage'] not in index\""
     ]
    }
   ],
   "source": [
    "# idx max will give an ID where each column value has maximum\n",
    "visa_df[['pervailing_wage','p_wage_norm']].idxmax()"
   ]
  },
  {
   "cell_type": "code",
   "execution_count": 39,
   "id": "3cb37a10-71fe-4849-b7c5-29d70679c39a",
   "metadata": {},
   "outputs": [
    {
     "ename": "KeyError",
     "evalue": "\"['pervailing_wage'] not in index\"",
     "output_type": "error",
     "traceback": [
      "\u001b[1;31m---------------------------------------------------------------------------\u001b[0m",
      "\u001b[1;31mKeyError\u001b[0m                                  Traceback (most recent call last)",
      "Cell \u001b[1;32mIn[39], line 1\u001b[0m\n\u001b[1;32m----> 1\u001b[0m visa_df[[\u001b[38;5;124m'\u001b[39m\u001b[38;5;124mpervailing_wage\u001b[39m\u001b[38;5;124m'\u001b[39m,\u001b[38;5;124m'\u001b[39m\u001b[38;5;124mp_wage_norm\u001b[39m\u001b[38;5;124m'\u001b[39m]]\u001b[38;5;241m.\u001b[39midxmin()\n",
      "File \u001b[1;32m~\\anaconda3\\Lib\\site-packages\\pandas\\core\\frame.py:4108\u001b[0m, in \u001b[0;36mDataFrame.__getitem__\u001b[1;34m(self, key)\u001b[0m\n\u001b[0;32m   4106\u001b[0m     \u001b[38;5;28;01mif\u001b[39;00m is_iterator(key):\n\u001b[0;32m   4107\u001b[0m         key \u001b[38;5;241m=\u001b[39m \u001b[38;5;28mlist\u001b[39m(key)\n\u001b[1;32m-> 4108\u001b[0m     indexer \u001b[38;5;241m=\u001b[39m \u001b[38;5;28mself\u001b[39m\u001b[38;5;241m.\u001b[39mcolumns\u001b[38;5;241m.\u001b[39m_get_indexer_strict(key, \u001b[38;5;124m\"\u001b[39m\u001b[38;5;124mcolumns\u001b[39m\u001b[38;5;124m\"\u001b[39m)[\u001b[38;5;241m1\u001b[39m]\n\u001b[0;32m   4110\u001b[0m \u001b[38;5;66;03m# take() does not accept boolean indexers\u001b[39;00m\n\u001b[0;32m   4111\u001b[0m \u001b[38;5;28;01mif\u001b[39;00m \u001b[38;5;28mgetattr\u001b[39m(indexer, \u001b[38;5;124m\"\u001b[39m\u001b[38;5;124mdtype\u001b[39m\u001b[38;5;124m\"\u001b[39m, \u001b[38;5;28;01mNone\u001b[39;00m) \u001b[38;5;241m==\u001b[39m \u001b[38;5;28mbool\u001b[39m:\n",
      "File \u001b[1;32m~\\anaconda3\\Lib\\site-packages\\pandas\\core\\indexes\\base.py:6200\u001b[0m, in \u001b[0;36mIndex._get_indexer_strict\u001b[1;34m(self, key, axis_name)\u001b[0m\n\u001b[0;32m   6197\u001b[0m \u001b[38;5;28;01melse\u001b[39;00m:\n\u001b[0;32m   6198\u001b[0m     keyarr, indexer, new_indexer \u001b[38;5;241m=\u001b[39m \u001b[38;5;28mself\u001b[39m\u001b[38;5;241m.\u001b[39m_reindex_non_unique(keyarr)\n\u001b[1;32m-> 6200\u001b[0m \u001b[38;5;28mself\u001b[39m\u001b[38;5;241m.\u001b[39m_raise_if_missing(keyarr, indexer, axis_name)\n\u001b[0;32m   6202\u001b[0m keyarr \u001b[38;5;241m=\u001b[39m \u001b[38;5;28mself\u001b[39m\u001b[38;5;241m.\u001b[39mtake(indexer)\n\u001b[0;32m   6203\u001b[0m \u001b[38;5;28;01mif\u001b[39;00m \u001b[38;5;28misinstance\u001b[39m(key, Index):\n\u001b[0;32m   6204\u001b[0m     \u001b[38;5;66;03m# GH 42790 - Preserve name from an Index\u001b[39;00m\n",
      "File \u001b[1;32m~\\anaconda3\\Lib\\site-packages\\pandas\\core\\indexes\\base.py:6252\u001b[0m, in \u001b[0;36mIndex._raise_if_missing\u001b[1;34m(self, key, indexer, axis_name)\u001b[0m\n\u001b[0;32m   6249\u001b[0m     \u001b[38;5;28;01mraise\u001b[39;00m \u001b[38;5;167;01mKeyError\u001b[39;00m(\u001b[38;5;124mf\u001b[39m\u001b[38;5;124m\"\u001b[39m\u001b[38;5;124mNone of [\u001b[39m\u001b[38;5;132;01m{\u001b[39;00mkey\u001b[38;5;132;01m}\u001b[39;00m\u001b[38;5;124m] are in the [\u001b[39m\u001b[38;5;132;01m{\u001b[39;00maxis_name\u001b[38;5;132;01m}\u001b[39;00m\u001b[38;5;124m]\u001b[39m\u001b[38;5;124m\"\u001b[39m)\n\u001b[0;32m   6251\u001b[0m not_found \u001b[38;5;241m=\u001b[39m \u001b[38;5;28mlist\u001b[39m(ensure_index(key)[missing_mask\u001b[38;5;241m.\u001b[39mnonzero()[\u001b[38;5;241m0\u001b[39m]]\u001b[38;5;241m.\u001b[39munique())\n\u001b[1;32m-> 6252\u001b[0m \u001b[38;5;28;01mraise\u001b[39;00m \u001b[38;5;167;01mKeyError\u001b[39;00m(\u001b[38;5;124mf\u001b[39m\u001b[38;5;124m\"\u001b[39m\u001b[38;5;132;01m{\u001b[39;00mnot_found\u001b[38;5;132;01m}\u001b[39;00m\u001b[38;5;124m not in index\u001b[39m\u001b[38;5;124m\"\u001b[39m)\n",
      "\u001b[1;31mKeyError\u001b[0m: \"['pervailing_wage'] not in index\""
     ]
    }
   ],
   "source": [
    "visa_df[['pervailing_wage','p_wage_norm']].idxmin()"
   ]
  },
  {
   "cell_type": "code",
   "execution_count": 43,
   "id": "afa84a70-7b8f-4d14-9f27-1435fb49b78c",
   "metadata": {},
   "outputs": [
    {
     "data": {
      "text/plain": [
       "array([[0.00184853],\n",
       "       [0.2613452 ],\n",
       "       [0.385312  ],\n",
       "       ...,\n",
       "       [0.45831136],\n",
       "       [0.26989486],\n",
       "       [0.22203311]])"
      ]
     },
     "execution_count": 43,
     "metadata": {},
     "output_type": "execute_result"
    }
   ],
   "source": [
    "from sklearn.preprocessing import MinMaxScaler\n",
    "mms = MinMaxScaler()\n",
    "mms.fit_transform(visa_df[['prevailing_wage']])"
   ]
  },
  {
   "cell_type": "code",
   "execution_count": null,
   "id": "24c6f1d6-b9e4-4d0e-bdd6-5c5946ba0c1d",
   "metadata": {},
   "outputs": [],
   "source": []
  }
 ],
 "metadata": {
  "kernelspec": {
   "display_name": "Python [conda env:base] *",
   "language": "python",
   "name": "conda-base-py"
  },
  "language_info": {
   "codemirror_mode": {
    "name": "ipython",
    "version": 3
   },
   "file_extension": ".py",
   "mimetype": "text/x-python",
   "name": "python",
   "nbconvert_exporter": "python",
   "pygments_lexer": "ipython3",
   "version": "3.12.7"
  }
 },
 "nbformat": 4,
 "nbformat_minor": 5
}
