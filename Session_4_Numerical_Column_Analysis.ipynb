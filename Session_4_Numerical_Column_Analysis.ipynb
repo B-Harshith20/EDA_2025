{
 "cells": [
  {
   "cell_type": "code",
   "execution_count": 18,
   "id": "c7d78942-40ef-4201-8333-e4b47aaf2c48",
   "metadata": {},
   "outputs": [],
   "source": [
    "import pandas as pd\n",
    "import numpy as np\n",
    "import matplotlib.pyplot as plt\n",
    "import seaborn as sns\n",
    "\n",
    "visa_d=pd.read_csv(r'C:\\Users\\happy\\Data Science & AI\\Data Files\\visadataset.csv')\n",
    "visa_df=pd.DataFrame(visa_d)\n",
    "visa_df\n",
    "cat=visa_df.select_dtypes(include='object').columns\n",
    "num=visa_df.select_dtypes(exclude='object').columns"
   ]
  },
  {
   "cell_type": "code",
   "execution_count": 3,
   "id": "90632dbd-e62b-4ccc-93b5-a7ca22958b2b",
   "metadata": {},
   "outputs": [
    {
     "data": {
      "text/plain": [
       "Index(['no_of_employees', 'yr_of_estab', 'prevailing_wage'], dtype='object')"
      ]
     },
     "execution_count": 3,
     "metadata": {},
     "output_type": "execute_result"
    }
   ],
   "source": [
    "num"
   ]
  },
  {
   "cell_type": "markdown",
   "id": "a39ec209-7158-4b1f-9db0-04883a1d3d71",
   "metadata": {},
   "source": [
    "- len\n",
    "\n",
    "- min\n",
    "\n",
    "- mean\n",
    "\n",
    "- median\n",
    "\n",
    "- max\n",
    "\n",
    "- 25p\n",
    "\n",
    "- 50p\n",
    "\n",
    "- 75p"
   ]
  },
  {
   "cell_type": "code",
   "execution_count": 20,
   "id": "bcbafdb7-f776-4376-96e3-3d6075fb9199",
   "metadata": {},
   "outputs": [
    {
     "data": {
      "text/plain": [
       "0           592.2029\n",
       "1         83425.6500\n",
       "2        122996.8600\n",
       "3         83434.0300\n",
       "4        149907.3900\n",
       "            ...     \n",
       "25475     77092.5700\n",
       "25476    279174.7900\n",
       "25477    146298.8500\n",
       "25478     86154.7700\n",
       "25479     70876.9100\n",
       "Name: prevailing_wage, Length: 25480, dtype: float64"
      ]
     },
     "execution_count": 20,
     "metadata": {},
     "output_type": "execute_result"
    }
   ],
   "source": [
    "wage_data=visa_df['prevailing_wage']  # reading the column\n",
    "wage_data"
   ]
  },
  {
   "cell_type": "code",
   "execution_count": 10,
   "id": "0460c10e-db38-4202-bf47-de57042cd7a0",
   "metadata": {},
   "outputs": [],
   "source": [
    "wage_count=len(wage_data)\n",
    "wage_min=round(np.min(wage_data),2)\n",
    "wage_max=round(np.max(wage_data),2)\n",
    "wage_mean=round(np.mean(wage_data),2)\n",
    "wage_median=round(np.median(wage_data),2)\n",
    "###################################################\n",
    "wage_25p=round(np.percentile(wage_data,25),2)  \n",
    "wage_50p=round(np.percentile(wage_data,50),2)\n",
    "wage_75p=round(np.percentile(wage_data,75),2)\n",
    "wage_25q=round(np.quantile(wage_data,0.25),2)\n",
    "wage_50q=round(np.quantile(wage_data,0.50),2)\n",
    "wage_75q=round(np.quantile(wage_data,0.75),2)\n",
    "###################################################\n",
    "wage_min_pd=round(wage_data.min(),2)\n",
    "wage_max_pd=round(wage_data.max(),2)\n",
    "wage_mean_pd=round(wage_data.mean(),2)\n",
    "wage_medain_pd=round(wage_data.median(),2)"
   ]
  },
  {
   "cell_type": "code",
   "execution_count": 24,
   "id": "53bef867-5edd-49e3-bcb0-8c061357b443",
   "metadata": {},
   "outputs": [
    {
     "name": "stdout",
     "output_type": "stream",
     "text": [
      "The number of observations are: 25480\n",
      "The min value of wage is: 2.14\n",
      "The min value of wage is using pandas: 2.14\n",
      "The 25p value of wage is: 34015.48\n",
      "The 25q value of wage is: 34015.48\n",
      "The mean value of wage is: 74455.81\n",
      "The mean value of wage is using pandas: 74455.81\n",
      "The 50p value of wage is: 70308.21\n",
      "The 50q value of wage is: 70308.21\n",
      "The median value of wage is: 70308.21\n",
      "The median value of wage is using pandas: 70308.21\n",
      "The 75p value of wage is: 107735.51\n",
      "The 75q value of wage is: 107735.51\n",
      "The max value of wage is: 319210.27\n",
      "The max value of wage is using pandas: 319210.27\n"
     ]
    }
   ],
   "source": [
    "print('The number of observations are:',wage_count)\n",
    "################################################################\n",
    "print('The min value of wage is:',wage_min)\n",
    "print('The min value of wage is using pandas:',wage_min_pd)\n",
    "#############################################################\n",
    "print('The 25p value of wage is:',wage_25p)\n",
    "print('The 25q value of wage is:',wage_25q)\n",
    "#############################################################\n",
    "print('The mean value of wage is:',wage_mean)\n",
    "print('The mean value of wage is using pandas:',wage_mean_pd)\n",
    "##################################################################\n",
    "print('The 50p value of wage is:',wage_50p)\n",
    "print('The 50q value of wage is:',wage_50q)\n",
    "#####################################################################\n",
    "print('The median value of wage is:',wage_median)\n",
    "print('The median value of wage is using pandas:',wage_medain_pd)\n",
    "#########################################################################\n",
    "print('The 75p value of wage is:',wage_75p)\n",
    "print('The 75q value of wage is:',wage_75q)\n",
    "###############################################################################\n",
    "print('The max value of wage is:',wage_max)\n",
    "print('The max value of wage is using pandas:',wage_max_pd)"
   ]
  },
  {
   "cell_type": "code",
   "execution_count": 26,
   "id": "f3dcb947-b9ad-4e66-8091-9c337a90219a",
   "metadata": {},
   "outputs": [
    {
     "data": {
      "text/plain": [
       "Index(['no_of_employees', 'yr_of_estab', 'prevailing_wage'], dtype='object')"
      ]
     },
     "execution_count": 26,
     "metadata": {},
     "output_type": "execute_result"
    }
   ],
   "source": [
    "num"
   ]
  },
  {
   "cell_type": "code",
   "execution_count": null,
   "id": "f00d0854-b1e9-48ec-b241-fdb79800336b",
   "metadata": {},
   "outputs": [],
   "source": [
    "for i in num:\n",
    "    data=visa_df[i]\n",
    "    data==== all"
   ]
  },
  {
   "cell_type": "code",
   "execution_count": 30,
   "id": "b4e70960-bae6-46aa-a197-b4b780dbfb08",
   "metadata": {},
   "outputs": [
    {
     "data": {
      "text/html": [
       "<div>\n",
       "<style scoped>\n",
       "    .dataframe tbody tr th:only-of-type {\n",
       "        vertical-align: middle;\n",
       "    }\n",
       "\n",
       "    .dataframe tbody tr th {\n",
       "        vertical-align: top;\n",
       "    }\n",
       "\n",
       "    .dataframe thead th {\n",
       "        text-align: right;\n",
       "    }\n",
       "</style>\n",
       "<table border=\"1\" class=\"dataframe\">\n",
       "  <thead>\n",
       "    <tr style=\"text-align: right;\">\n",
       "      <th></th>\n",
       "      <th>prevailing_wage</th>\n",
       "    </tr>\n",
       "  </thead>\n",
       "  <tbody>\n",
       "    <tr>\n",
       "      <th>Count</th>\n",
       "      <td>25480.00</td>\n",
       "    </tr>\n",
       "    <tr>\n",
       "      <th>min</th>\n",
       "      <td>2.14</td>\n",
       "    </tr>\n",
       "    <tr>\n",
       "      <th>max</th>\n",
       "      <td>319210.27</td>\n",
       "    </tr>\n",
       "    <tr>\n",
       "      <th>mean</th>\n",
       "      <td>74455.81</td>\n",
       "    </tr>\n",
       "    <tr>\n",
       "      <th>median</th>\n",
       "      <td>70308.21</td>\n",
       "    </tr>\n",
       "    <tr>\n",
       "      <th>25p</th>\n",
       "      <td>34015.48</td>\n",
       "    </tr>\n",
       "    <tr>\n",
       "      <th>50p</th>\n",
       "      <td>70308.21</td>\n",
       "    </tr>\n",
       "    <tr>\n",
       "      <th>75p</th>\n",
       "      <td>107735.51</td>\n",
       "    </tr>\n",
       "  </tbody>\n",
       "</table>\n",
       "</div>"
      ],
      "text/plain": [
       "        prevailing_wage\n",
       "Count          25480.00\n",
       "min                2.14\n",
       "max           319210.27\n",
       "mean           74455.81\n",
       "median         70308.21\n",
       "25p            34015.48\n",
       "50p            70308.21\n",
       "75p           107735.51"
      ]
     },
     "execution_count": 30,
     "metadata": {},
     "output_type": "execute_result"
    }
   ],
   "source": [
    "data=visa_df['prevailing_wage']\n",
    "count=len(data)\n",
    "MIN=round(np.min(data),2)\n",
    "MAX=round(np.max(data),2)\n",
    "mean=round(np.mean(data),2)\n",
    "median=round(np.median(data),2)\n",
    "p_25=round(np.percentile(data,25),2)  \n",
    "p_50=round(np.percentile(data,50),2)\n",
    "p_75=round(np.percentile(data,75),2)\n",
    "values=[count,MIN,MAX,mean,median,p_25,p_50,p_75]\n",
    "index=['Count','min','max','mean','median','25p','50p','75p']\n",
    "pd.DataFrame(values,index,columns=['prevailing_wage'])"
   ]
  },
  {
   "cell_type": "code",
   "execution_count": 58,
   "id": "7dc0f755-6581-4cd5-aaab-647344554f9b",
   "metadata": {},
   "outputs": [],
   "source": [
    "df=pd.DataFrame()\n",
    "values=[]\n",
    "for i in num:\n",
    "    data=visa_df[i]\n",
    "    count=len(data)\n",
    "    MIN=round(np.min(data),2)\n",
    "    MAX=round(np.max(data),2)\n",
    "    mean=round(np.mean(data),2)\n",
    "    median=round(np.median(data),2)\n",
    "    p_25=round(np.percentile(data,25),2)  \n",
    "    p_50=round(np.percentile(data,50),2)\n",
    "    p_75=round(np.percentile(data,75),2)\n",
    "    values=[count,MIN,MAX,mean,median,p_25,p_50,p_75]\n",
    "    df[i]=values"
   ]
  },
  {
   "cell_type": "code",
   "execution_count": 52,
   "id": "1c3ed8bd-4382-4def-a898-72e981bb25ac",
   "metadata": {},
   "outputs": [
    {
     "data": {
      "text/html": [
       "<div>\n",
       "<style scoped>\n",
       "    .dataframe tbody tr th:only-of-type {\n",
       "        vertical-align: middle;\n",
       "    }\n",
       "\n",
       "    .dataframe tbody tr th {\n",
       "        vertical-align: top;\n",
       "    }\n",
       "\n",
       "    .dataframe thead th {\n",
       "        text-align: right;\n",
       "    }\n",
       "</style>\n",
       "<table border=\"1\" class=\"dataframe\">\n",
       "  <thead>\n",
       "    <tr style=\"text-align: right;\">\n",
       "      <th></th>\n",
       "      <th>0</th>\n",
       "      <th>1</th>\n",
       "      <th>2</th>\n",
       "    </tr>\n",
       "  </thead>\n",
       "  <tbody>\n",
       "    <tr>\n",
       "      <th>0</th>\n",
       "      <td>1</td>\n",
       "      <td>2</td>\n",
       "      <td>3</td>\n",
       "    </tr>\n",
       "    <tr>\n",
       "      <th>1</th>\n",
       "      <td>4</td>\n",
       "      <td>5</td>\n",
       "      <td>6</td>\n",
       "    </tr>\n",
       "  </tbody>\n",
       "</table>\n",
       "</div>"
      ],
      "text/plain": [
       "   0  1  2\n",
       "0  1  2  3\n",
       "1  4  5  6"
      ]
     },
     "execution_count": 52,
     "metadata": {},
     "output_type": "execute_result"
    }
   ],
   "source": [
    "pd.DataFrame([[1,2,3],[4,5,6]])"
   ]
  },
  {
   "cell_type": "code",
   "execution_count": 60,
   "id": "ba2d8c48-e285-4ac2-ad16-f9443151e409",
   "metadata": {},
   "outputs": [
    {
     "data": {
      "text/html": [
       "<div>\n",
       "<style scoped>\n",
       "    .dataframe tbody tr th:only-of-type {\n",
       "        vertical-align: middle;\n",
       "    }\n",
       "\n",
       "    .dataframe tbody tr th {\n",
       "        vertical-align: top;\n",
       "    }\n",
       "\n",
       "    .dataframe thead th {\n",
       "        text-align: right;\n",
       "    }\n",
       "</style>\n",
       "<table border=\"1\" class=\"dataframe\">\n",
       "  <thead>\n",
       "    <tr style=\"text-align: right;\">\n",
       "      <th></th>\n",
       "      <th>no_of_employees</th>\n",
       "      <th>yr_of_estab</th>\n",
       "      <th>prevailing_wage</th>\n",
       "    </tr>\n",
       "  </thead>\n",
       "  <tbody>\n",
       "    <tr>\n",
       "      <th>Count</th>\n",
       "      <td>25480.00</td>\n",
       "      <td>25480.00</td>\n",
       "      <td>25480.00</td>\n",
       "    </tr>\n",
       "    <tr>\n",
       "      <th>min</th>\n",
       "      <td>-26.00</td>\n",
       "      <td>1800.00</td>\n",
       "      <td>2.14</td>\n",
       "    </tr>\n",
       "    <tr>\n",
       "      <th>max</th>\n",
       "      <td>602069.00</td>\n",
       "      <td>2016.00</td>\n",
       "      <td>319210.27</td>\n",
       "    </tr>\n",
       "    <tr>\n",
       "      <th>mean</th>\n",
       "      <td>5667.04</td>\n",
       "      <td>1979.41</td>\n",
       "      <td>74455.81</td>\n",
       "    </tr>\n",
       "    <tr>\n",
       "      <th>median</th>\n",
       "      <td>2109.00</td>\n",
       "      <td>1997.00</td>\n",
       "      <td>70308.21</td>\n",
       "    </tr>\n",
       "    <tr>\n",
       "      <th>25p</th>\n",
       "      <td>1022.00</td>\n",
       "      <td>1976.00</td>\n",
       "      <td>34015.48</td>\n",
       "    </tr>\n",
       "    <tr>\n",
       "      <th>50p</th>\n",
       "      <td>2109.00</td>\n",
       "      <td>1997.00</td>\n",
       "      <td>70308.21</td>\n",
       "    </tr>\n",
       "    <tr>\n",
       "      <th>75p</th>\n",
       "      <td>3504.00</td>\n",
       "      <td>2005.00</td>\n",
       "      <td>107735.51</td>\n",
       "    </tr>\n",
       "  </tbody>\n",
       "</table>\n",
       "</div>"
      ],
      "text/plain": [
       "        no_of_employees  yr_of_estab  prevailing_wage\n",
       "Count          25480.00     25480.00         25480.00\n",
       "min              -26.00      1800.00             2.14\n",
       "max           602069.00      2016.00        319210.27\n",
       "mean            5667.04      1979.41         74455.81\n",
       "median          2109.00      1997.00         70308.21\n",
       "25p             1022.00      1976.00         34015.48\n",
       "50p             2109.00      1997.00         70308.21\n",
       "75p             3504.00      2005.00        107735.51"
      ]
     },
     "execution_count": 60,
     "metadata": {},
     "output_type": "execute_result"
    }
   ],
   "source": [
    "index=['Count','min','max','mean','median','25p','50p','75p']\n",
    "df.index=index\n",
    "df"
   ]
  },
  {
   "cell_type": "code",
   "execution_count": 32,
   "id": "7b7f7d6d-6b8b-40b6-8e29-3100793827c3",
   "metadata": {},
   "outputs": [
    {
     "data": {
      "text/html": [
       "<div>\n",
       "<style scoped>\n",
       "    .dataframe tbody tr th:only-of-type {\n",
       "        vertical-align: middle;\n",
       "    }\n",
       "\n",
       "    .dataframe tbody tr th {\n",
       "        vertical-align: top;\n",
       "    }\n",
       "\n",
       "    .dataframe thead th {\n",
       "        text-align: right;\n",
       "    }\n",
       "</style>\n",
       "<table border=\"1\" class=\"dataframe\">\n",
       "  <thead>\n",
       "    <tr style=\"text-align: right;\">\n",
       "      <th></th>\n",
       "      <th>no_of_employees</th>\n",
       "      <th>yr_of_estab</th>\n",
       "      <th>prevailing_wage</th>\n",
       "    </tr>\n",
       "  </thead>\n",
       "  <tbody>\n",
       "    <tr>\n",
       "      <th>0</th>\n",
       "      <td>1</td>\n",
       "      <td>1</td>\n",
       "      <td>1</td>\n",
       "    </tr>\n",
       "    <tr>\n",
       "      <th>1</th>\n",
       "      <td>2</td>\n",
       "      <td>2</td>\n",
       "      <td>2</td>\n",
       "    </tr>\n",
       "    <tr>\n",
       "      <th>2</th>\n",
       "      <td>3</td>\n",
       "      <td>3</td>\n",
       "      <td>3</td>\n",
       "    </tr>\n",
       "  </tbody>\n",
       "</table>\n",
       "</div>"
      ],
      "text/plain": [
       "   no_of_employees  yr_of_estab  prevailing_wage\n",
       "0                1            1                1\n",
       "1                2            2                2\n",
       "2                3            3                3"
      ]
     },
     "execution_count": 32,
     "metadata": {},
     "output_type": "execute_result"
    }
   ],
   "source": [
    "df=pd.DataFrame()\n",
    "for i in num:\n",
    "    df[i]=[1,2,3]\n",
    "df"
   ]
  },
  {
   "cell_type": "code",
   "execution_count": 42,
   "id": "42dc19c2-9867-4fc5-9515-5b818b57c9d1",
   "metadata": {},
   "outputs": [
    {
     "data": {
      "text/html": [
       "<div>\n",
       "<style scoped>\n",
       "    .dataframe tbody tr th:only-of-type {\n",
       "        vertical-align: middle;\n",
       "    }\n",
       "\n",
       "    .dataframe tbody tr th {\n",
       "        vertical-align: top;\n",
       "    }\n",
       "\n",
       "    .dataframe thead th {\n",
       "        text-align: right;\n",
       "    }\n",
       "</style>\n",
       "<table border=\"1\" class=\"dataframe\">\n",
       "  <thead>\n",
       "    <tr style=\"text-align: right;\">\n",
       "      <th></th>\n",
       "      <th>no_of_employees</th>\n",
       "      <th>yr_of_estab</th>\n",
       "      <th>prevailing_wage</th>\n",
       "    </tr>\n",
       "  </thead>\n",
       "  <tbody>\n",
       "    <tr>\n",
       "      <th>count</th>\n",
       "      <td>25480.000000</td>\n",
       "      <td>25480.000000</td>\n",
       "      <td>25480.000000</td>\n",
       "    </tr>\n",
       "    <tr>\n",
       "      <th>mean</th>\n",
       "      <td>5667.043210</td>\n",
       "      <td>1979.409929</td>\n",
       "      <td>74455.814592</td>\n",
       "    </tr>\n",
       "    <tr>\n",
       "      <th>std</th>\n",
       "      <td>22877.928848</td>\n",
       "      <td>42.366929</td>\n",
       "      <td>52815.942327</td>\n",
       "    </tr>\n",
       "    <tr>\n",
       "      <th>min</th>\n",
       "      <td>-26.000000</td>\n",
       "      <td>1800.000000</td>\n",
       "      <td>2.136700</td>\n",
       "    </tr>\n",
       "    <tr>\n",
       "      <th>25%</th>\n",
       "      <td>1022.000000</td>\n",
       "      <td>1976.000000</td>\n",
       "      <td>34015.480000</td>\n",
       "    </tr>\n",
       "    <tr>\n",
       "      <th>50%</th>\n",
       "      <td>2109.000000</td>\n",
       "      <td>1997.000000</td>\n",
       "      <td>70308.210000</td>\n",
       "    </tr>\n",
       "    <tr>\n",
       "      <th>75%</th>\n",
       "      <td>3504.000000</td>\n",
       "      <td>2005.000000</td>\n",
       "      <td>107735.512500</td>\n",
       "    </tr>\n",
       "    <tr>\n",
       "      <th>max</th>\n",
       "      <td>602069.000000</td>\n",
       "      <td>2016.000000</td>\n",
       "      <td>319210.270000</td>\n",
       "    </tr>\n",
       "  </tbody>\n",
       "</table>\n",
       "</div>"
      ],
      "text/plain": [
       "       no_of_employees   yr_of_estab  prevailing_wage\n",
       "count     25480.000000  25480.000000     25480.000000\n",
       "mean       5667.043210   1979.409929     74455.814592\n",
       "std       22877.928848     42.366929     52815.942327\n",
       "min         -26.000000   1800.000000         2.136700\n",
       "25%        1022.000000   1976.000000     34015.480000\n",
       "50%        2109.000000   1997.000000     70308.210000\n",
       "75%        3504.000000   2005.000000    107735.512500\n",
       "max      602069.000000   2016.000000    319210.270000"
      ]
     },
     "execution_count": 42,
     "metadata": {},
     "output_type": "execute_result"
    }
   ],
   "source": [
    "visa_df.describe()"
   ]
  },
  {
   "cell_type": "markdown",
   "id": "675a681d-bf13-4157-98a7-8841d3028b0f",
   "metadata": {},
   "source": [
    "**percentile**\n",
    "\n",
    "- 25percentage of data less than 34015.47\n",
    "\n",
    "- 25percenatge data= 25*25480/100=6370\n",
    "\n",
    "- 6370 members has salary less than 34015.47 "
   ]
  },
  {
   "cell_type": "code",
   "execution_count": 66,
   "id": "290c1b08-46c7-4687-a01a-38e7faae5c87",
   "metadata": {},
   "outputs": [
    {
     "data": {
      "text/plain": [
       "34015.479999999996"
      ]
     },
     "execution_count": 66,
     "metadata": {},
     "output_type": "execute_result"
    }
   ],
   "source": [
    "wage_data=visa_df['prevailing_wage']\n",
    "p_25=np.percentile(wage_data,25)\n",
    "p_25"
   ]
  },
  {
   "cell_type": "code",
   "execution_count": 72,
   "id": "1e13841d-3c44-4f90-8a22-db0a0038e037",
   "metadata": {},
   "outputs": [
    {
     "data": {
      "text/plain": [
       "6370"
      ]
     },
     "execution_count": 72,
     "metadata": {},
     "output_type": "execute_result"
    }
   ],
   "source": [
    "con=wage_data<p_25\n",
    "len(visa_df[con])"
   ]
  },
  {
   "cell_type": "markdown",
   "id": "2f30b7f9-9c06-42cd-995d-fad4bfc6e72a",
   "metadata": {},
   "source": [
    "**Emperical Rule**\n",
    "\n",
    "u-1sigma to u+1sigma how much data 68p  "
   ]
  },
  {
   "cell_type": "code",
   "execution_count": null,
   "id": "fa34accf-568c-491d-b8b3-10d0ca20fb4a",
   "metadata": {},
   "outputs": [],
   "source": [
    "# step-1: u=calculate mean of wage data\n",
    "# step-2: sd=calculate sd of wage data\n",
    "# step-3: lb=u-1*sd\n",
    "# step-4: ub=u+1*sd\n",
    "# step-5: con1= wage_data>lb\n",
    "# step-6: con2=wage_data<ub\n",
    "# step-7: con= con1 and con2\n",
    "# step-8: len(visa_df[con])\n",
    "# step-9: 68*25480/100\n",
    "\n",
    "wage_data = visa_df['prevailing_wage']\n",
    "u = wage_data.mean()\n",
    "sd = wage_data.std()\n",
    "lb = u-1*sd\n",
    "ub = u+1*sd\n",
    "con1 = wage_data>lb\n",
    "con2 = wage_data<ub\n",
    "con = con1&con2\n",
    "print(len(visa_df[con]))\n",
    "print(68*len(visa_df)/100)\n",
    "len(visa_df["
   ]
  },
  {
   "cell_type": "markdown",
   "id": "51a35e63-838d-4a83-a1ac-0bdc14399468",
   "metadata": {},
   "source": [
    "**Emperical followed means Normal**\n",
    "\n",
    "**Emperical followed means Skewd**"
   ]
  },
  {
   "cell_type": "markdown",
   "id": "5bfdad60-8b4f-43a5-a388-a16fa4c2f27b",
   "metadata": {},
   "source": [
    "**Histogram**"
   ]
  },
  {
   "cell_type": "code",
   "execution_count": 26,
   "id": "c6963e2a-b369-4620-b52f-ea29f751eb3c",
   "metadata": {},
   "outputs": [
    {
     "data": {
      "image/png": "[encoded data removed]",
      "text/plain": [
       "<Figure size 640x480 with 1 Axes>"
      ]
     },
     "metadata": {},
     "output_type": "display_data"
    }
   ],
   "source": [
    "counts,interval,bins = plt.hist(wage_data)"
   ]
  },
  {
   "cell_type": "code",
   "execution_count": 30,
   "id": "59e882b0-33da-420e-8e8d-52fcec6549d3",
   "metadata": {},
   "outputs": [
    {
     "data": {
      "text/plain": [
       "array([6038., 5504., 5681., 4551., 2334.,  624.,  373.,  240.,  114.,\n",
       "         21.])"
      ]
     },
     "execution_count": 30,
     "metadata": {},
     "output_type": "execute_result"
    }
   ],
   "source": [
    "counts"
   ]
  },
  {
   "cell_type": "code",
   "execution_count": 32,
   "id": "b8b20c4f-bc88-417d-bf1d-82d7a5e2c3f9",
   "metadata": {},
   "outputs": [
    {
     "data": {
      "text/plain": [
       "array([2.13670000e+00, 3.19229500e+04, 6.38437634e+04, 9.57645767e+04,\n",
       "       1.27685390e+05, 1.59606203e+05, 1.91527017e+05, 2.23447830e+05,\n",
       "       2.55368643e+05, 2.87289457e+05, 3.19210270e+05])"
      ]
     },
     "execution_count": 32,
     "metadata": {},
     "output_type": "execute_result"
    }
   ],
   "source": [
    "interval"
   ]
  },
  {
   "cell_type": "code",
   "execution_count": null,
   "id": "1c686d3a-48bc-4a34-b033-0b5ddb5d5bce",
   "metadata": {},
   "outputs": [],
   "source": [
    "there are 6038 observations between 2.13670000e+00 to 3.19229500e+04\n",
    "there are 5504 observations between 3.19229500e+04 to 6.38437634e+04"
   ]
  },
  {
   "cell_type": "code",
   "execution_count": 34,
   "id": "e8576daf-c49c-4826-8ee3-19a92aed35f5",
   "metadata": {},
   "outputs": [
    {
     "data": {
      "text/plain": [
       "6038"
      ]
     },
     "execution_count": 34,
     "metadata": {},
     "output_type": "execute_result"
    }
   ],
   "source": [
    "lb = 2.13670000e+00\n",
    "ub = 3.19229500e+04\n",
    "con1 = wage_data>=lb\n",
    "con2 = wage_data<=ub\n",
    "con = con1 & con2\n",
    "len(wage_data[con])"
   ]
  },
  {
   "cell_type": "code",
   "execution_count": null,
   "id": "427a4453-7cc2-48bf-a055-bed11a8b3085",
   "metadata": {},
   "outputs": [],
   "source": [
    "plt.figure(figsize = (14,3))\n",
    "plt.subplot(1,3,1).hist(wage_data)\n",
    "plt.subplot(1,3,2).hist(wage_data)"
   ]
  },
  {
   "cell_type": "markdown",
   "id": "cd5de688-b432-4f13-af1a-b8f255589e8e",
   "metadata": {},
   "source": [
    "**sns.histplot**"
   ]
  },
  {
   "cell_type": "code",
   "execution_count": 37,
   "id": "a30c9e54-447c-478b-bef7-c99fd4126b05",
   "metadata": {},
   "outputs": [
    {
     "data": {
      "text/plain": [
       "<Axes: xlabel='prevailing_wage', ylabel='Count'>"
      ]
     },
     "execution_count": 37,
     "metadata": {},
     "output_type": "execute_result"
    },
    {
     "data": {
      "image/png": "[encoded data removed]",
      "text/plain": [
       "<Figure size 640x480 with 1 Axes>"
      ]
     },
     "metadata": {},
     "output_type": "display_data"
    }
   ],
   "source": [
    "sns.histplot(wage_data)"
   ]
  },
  {
   "cell_type": "code",
   "execution_count": 41,
   "id": "4f4b535e-f5e3-4c7f-9369-24c0e045e1ce",
   "metadata": {},
   "outputs": [
    {
     "data": {
      "text/plain": [
       "<Axes: xlabel='prevailing_wage', ylabel='Density'>"
      ]
     },
     "execution_count": 41,
     "metadata": {},
     "output_type": "execute_result"
    },
    {
     "data": {
      "image/png": "[encoded data removed]",
      "text/plain": [
       "<Figure size 640x480 with 1 Axes>"
      ]
     },
     "metadata": {},
     "output_type": "display_data"
    }
   ],
   "source": [
    "import warnings\n",
    "warnings.filterwarnings('ignore')\n",
    "sns.distplot(wage_data)"
   ]
  },
  {
   "cell_type": "code",
   "execution_count": 43,
   "id": "e6b4629e-b51a-44ba-9ff8-406929b5cfd6",
   "metadata": {},
   "outputs": [
    {
     "data": {
      "text/plain": [
       "Index(['case_id', 'continent', 'education_of_employee', 'has_job_experience',\n",
       "       'requires_job_training', 'no_of_employees', 'yr_of_estab',\n",
       "       'region_of_employment', 'prevailing_wage', 'unit_of_wage',\n",
       "       'full_time_position', 'case_status'],\n",
       "      dtype='object')"
      ]
     },
     "execution_count": 43,
     "metadata": {},
     "output_type": "execute_result"
    }
   ],
   "source": [
    "visa_df.columns"
   ]
  },
  {
   "cell_type": "code",
   "execution_count": null,
   "id": "5c253155-9859-4882-980b-143312ee86c5",
   "metadata": {},
   "outputs": [],
   "source": []
  }
 ],
 "metadata": {
  "kernelspec": {
   "display_name": "Python [conda env:base] *",
   "language": "python",
   "name": "conda-base-py"
  },
  "language_info": {
   "codemirror_mode": {
    "name": "ipython",
    "version": 3
   },
   "file_extension": ".py",
   "mimetype": "text/x-python",
   "name": "python",
   "nbconvert_exporter": "python",
   "pygments_lexer": "ipython3",
   "version": "3.12.7"
  }
 },
 "nbformat": 4,
 "nbformat_minor": 5
}
